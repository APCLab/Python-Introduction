{
 "cells": [
  {
   "cell_type": "markdown",
   "metadata": {},
   "source": [
    "# 前情提要\n",
    "\n",
    "\n",
    "* 認識 Python\n",
    "* 基本運算\n",
    "    - 加減乘除\n",
    "    - 取餘數\n",
    "    - 指數\n",
    "    - 複數\n",
    "    - 除法，無條件捨去到個位數 (//)\n",
    "    - 絕對值 (abs)\n",
    "    - 四捨五入 (round)\n",
    "* 型別\n",
    "    - 基本型別\n",
    "        + int\n",
    "        + float\n",
    "        + str\n",
    "            * `\"`\n",
    "            * `'`\n",
    "            * `\"\"\"`\n",
    "            * `'''`\n",
    "            * `\\` escape\n",
    "        + tuple\n",
    "        + list\n",
    "        + dict\n",
    "        + set\n",
    "            * `|`\n",
    "            * `&`\n",
    "            * `^`\n",
    "* 輔助工具\n",
    "    - dir\n",
    "    - help\n",
    "    - type\n",
    "* 賦值 (Assign)\n",
    "* 真偽值\n",
    "    - True/False\n",
    "    - `>` `>=` `<` `<=` `==` `!=` `in`\n",
    "    - and/or/not\n",
    "    - is\n",
    "    - 各種 empty 狀況\n",
    "        + 0, 1\n",
    "        + \"\", \"abc\"\n",
    "        + (,), (1, 2)\n",
    "        + [], [1, 2]\n",
    "        + set(), {1, 2}\n",
    "* 流程控制 (注意冒號和縮排)\n",
    "    - if ... elif ... else\n",
    "    - for ... in ...\n",
    "    - break\n",
    "    - continue\n",
    "    - while ... else ...\n",
    "* 更多字串操作\n",
    "    - format string\n",
    "    - 字串串接\n",
    "    - slice : `start:stop[:step]`\n",
    "* function\n",
    "    - def\n",
    "    - return\n",
    "    - arguments\n",
    "        + defaults\n",
    "    - function call\n",
    "* Slice\n",
    "    - slice(start, stop[, step])\n",
    "    - a[0], a[-1], a[1:99:3], a[-1:-11:-2], a[::-1] (不打的話就自動帶入頭尾), range(-1, -11, -2)"
   ]
  },
  {
   "cell_type": "markdown",
   "metadata": {},
   "source": [
    "# 練習\n",
    "\n",
    "(Home -> House Password)\n",
    "\n",
    "![House Password](images/House-Password.png)\n",
    "\n",
    "(Home -> Xs and Os Referee)\n",
    "\n",
    "![Xs and Os Referee](images/Xs and Os Referee.png)"
   ]
  },
  {
   "cell_type": "markdown",
   "metadata": {},
   "source": [
    "# Import\n",
    "\n",
    "利用現有的工具做事情\n",
    "\n",
    "* [The Python Standard Library](https://docs.python.org/3/library/)\n",
    "* [A curated list of awesome Python frameworks, libraries and software](https://github.com/vinta/awesome-python)"
   ]
  },
  {
   "cell_type": "code",
   "execution_count": 9,
   "metadata": {
    "collapsed": false
   },
   "outputs": [
    {
     "name": "stdout",
     "output_type": "stream",
     "text": [
      "········\n"
     ]
    }
   ],
   "source": [
    "import getpass    # 使用 Python 內建的 module\n",
    "password = getpass.getpass()    # 輸入密碼\n",
    "username = getpass.getuser()    # 取得使用者名稱"
   ]
  },
  {
   "cell_type": "code",
   "execution_count": 10,
   "metadata": {
    "collapsed": false
   },
   "outputs": [
    {
     "name": "stdout",
     "output_type": "stream",
     "text": [
      "········\n"
     ]
    }
   ],
   "source": [
    "from getpass import getpass, getuser    # 指定使用 module 內的某些 function\n",
    "password = getpass()\n",
    "username = getuser()"
   ]
  },
  {
   "cell_type": "code",
   "execution_count": 11,
   "metadata": {
    "collapsed": false
   },
   "outputs": [
    {
     "name": "stdout",
     "output_type": "stream",
     "text": [
      "········\n"
     ]
    }
   ],
   "source": [
    "import getpass as g     # 這邊把 \"getpass\" 這個 module 取名成 \"g\" (名字是隨便取的，正式專案不要亂命名)\n",
    "password = g.getpass()\n",
    "username = g.getuser()"
   ]
  },
  {
   "cell_type": "markdown",
   "metadata": {},
   "source": [
    "# pip"
   ]
  },
  {
   "cell_type": "code",
   "execution_count": null,
   "metadata": {
    "collapsed": true
   },
   "outputs": [],
   "source": []
  }
 ],
 "metadata": {
  "kernelspec": {
   "display_name": "Python 3",
   "language": "python",
   "name": "python3"
  },
  "language_info": {
   "codemirror_mode": {
    "name": "ipython",
    "version": 3
   },
   "file_extension": ".py",
   "mimetype": "text/x-python",
   "name": "python",
   "nbconvert_exporter": "python",
   "pygments_lexer": "ipython3",
   "version": "3.5.0"
  }
 },
 "nbformat": 4,
 "nbformat_minor": 0
}
