{
 "cells": [
  {
   "cell_type": "markdown",
   "metadata": {},
   "source": [
    "# Python & Data Sciense\n",
    "\n",
    "## 相關常間套件\n",
    "\n",
    "- [scipy](https://www.scipy.org)\n",
    "- numpy\n",
    "- sumpy\n",
    "- pandas\n",
    "- matplotlib\n",
    "- jupyter (舊名: ipython notebook)\n",
    "\n",
    "- Theano\n",
    "\n",
    "\n",
    "### The PyData community\n",
    "\n",
    "- http://pydata.org\n",
    "\n",
    "過去的 talk\n",
    "- https://www.youtube.com/watch?list=PLGVZCDnMOq0rbLTVoHGS2xcvp5E0ouOe8&v=MVyauNNinC0\n"
   ]
  },
  {
   "cell_type": "markdown",
   "metadata": {},
   "source": [
    "----"
   ]
  },
  {
   "cell_type": "markdown",
   "metadata": {},
   "source": [
    "# Numpy\n",
    "\n",
    "- 針對 array 處理相關操作\n",
    "\n",
    "- Linear Algebra\n",
    "\n",
    "- Image processing\n",
    "\n",
    "- 底下接 c / fortran\n",
    "\n",
    "## slide\n",
    "\n",
    "- http://www.slideshare.net/PyData/introduction-to-numpy\n",
    "\n",
    "## Rosetta Stone for Matlab User\n",
    "\n",
    "https://docs.scipy.org/doc/numpy-dev/user/numpy-for-matlab-users.html"
   ]
  },
  {
   "cell_type": "markdown",
   "metadata": {},
   "source": [
    "----\n",
    "### Array creation\n",
    "- ones\n",
    "- zeros\n",
    "- empty: uninit\n",
    "- array range\n",
    "- eye\n",
    "- diagonal"
   ]
  },
  {
   "cell_type": "code",
   "execution_count": null,
   "metadata": {
    "collapsed": true
   },
   "outputs": [],
   "source": []
  },
  {
   "cell_type": "code",
   "execution_count": 87,
   "metadata": {
    "collapsed": true
   },
   "outputs": [],
   "source": [
    "import numpy as np"
   ]
  },
  {
   "cell_type": "code",
   "execution_count": 101,
   "metadata": {
    "collapsed": false
   },
   "outputs": [],
   "source": [
    "arr = np.array([\n",
    "        [1, 2],\n",
    "        [3.14, 4]\n",
    "    ])"
   ]
  },
  {
   "cell_type": "code",
   "execution_count": 102,
   "metadata": {
    "collapsed": false
   },
   "outputs": [
    {
     "data": {
      "text/plain": [
       "array([[ 1.  ,  2.  ],\n",
       "       [ 3.14,  4.  ]])"
      ]
     },
     "execution_count": 102,
     "metadata": {},
     "output_type": "execute_result"
    }
   ],
   "source": [
    "arr"
   ]
  },
  {
   "cell_type": "code",
   "execution_count": 104,
   "metadata": {
    "collapsed": false
   },
   "outputs": [
    {
     "data": {
      "text/plain": [
       "dtype('float64')"
      ]
     },
     "execution_count": 104,
     "metadata": {},
     "output_type": "execute_result"
    }
   ],
   "source": [
    "arr.dtype"
   ]
  },
  {
   "cell_type": "code",
   "execution_count": 105,
   "metadata": {
    "collapsed": false
   },
   "outputs": [
    {
     "data": {
      "text/plain": [
       "array([[ 1.,  0.,  0.,  0.],\n",
       "       [ 0.,  1.,  0.,  0.],\n",
       "       [ 0.,  0.,  1.,  0.],\n",
       "       [ 0.,  0.,  0.,  1.]])"
      ]
     },
     "execution_count": 105,
     "metadata": {},
     "output_type": "execute_result"
    }
   ],
   "source": [
    "np.eye(4)"
   ]
  },
  {
   "cell_type": "code",
   "execution_count": 106,
   "metadata": {
    "collapsed": false
   },
   "outputs": [
    {
     "data": {
      "text/plain": [
       "array([[1, 0, 0, 0],\n",
       "       [0, 2, 0, 0],\n",
       "       [0, 0, 3, 0],\n",
       "       [0, 0, 0, 4]])"
      ]
     },
     "execution_count": 106,
     "metadata": {},
     "output_type": "execute_result"
    }
   ],
   "source": [
    "np.diag([1, 2, 3, 4])"
   ]
  },
  {
   "cell_type": "code",
   "execution_count": 108,
   "metadata": {
    "collapsed": false
   },
   "outputs": [
    {
     "data": {
      "text/plain": [
       "array([0, 1, 2, 3, 4, 5, 6, 7, 8, 9])"
      ]
     },
     "execution_count": 108,
     "metadata": {},
     "output_type": "execute_result"
    }
   ],
   "source": [
    "np.arange(10)"
   ]
  },
  {
   "cell_type": "code",
   "execution_count": 110,
   "metadata": {
    "collapsed": false
   },
   "outputs": [],
   "source": [
    "arr = np.arange(20).reshape(4, 5)"
   ]
  },
  {
   "cell_type": "code",
   "execution_count": null,
   "metadata": {
    "collapsed": true
   },
   "outputs": [],
   "source": []
  },
  {
   "cell_type": "markdown",
   "metadata": {},
   "source": [
    "---\n",
    "### index & slicing"
   ]
  },
  {
   "cell_type": "code",
   "execution_count": 111,
   "metadata": {
    "collapsed": false
   },
   "outputs": [
    {
     "data": {
      "text/plain": [
       "array([[ 0,  1,  2,  3,  4],\n",
       "       [ 5,  6,  7,  8,  9],\n",
       "       [10, 11, 12, 13, 14],\n",
       "       [15, 16, 17, 18, 19]])"
      ]
     },
     "execution_count": 111,
     "metadata": {},
     "output_type": "execute_result"
    }
   ],
   "source": [
    "arr"
   ]
  },
  {
   "cell_type": "code",
   "execution_count": 113,
   "metadata": {
    "collapsed": false,
    "scrolled": true
   },
   "outputs": [
    {
     "data": {
      "text/plain": [
       "11"
      ]
     },
     "execution_count": 113,
     "metadata": {},
     "output_type": "execute_result"
    }
   ],
   "source": [
    "arr[2, 1]"
   ]
  },
  {
   "cell_type": "code",
   "execution_count": 114,
   "metadata": {
    "collapsed": false
   },
   "outputs": [
    {
     "data": {
      "text/plain": [
       "array([10, 11, 12, 13, 14])"
      ]
     },
     "execution_count": 114,
     "metadata": {},
     "output_type": "execute_result"
    }
   ],
   "source": [
    "arr[2, :]"
   ]
  },
  {
   "cell_type": "code",
   "execution_count": 116,
   "metadata": {
    "collapsed": false
   },
   "outputs": [
    {
     "data": {
      "text/plain": [
       "array([10, 13])"
      ]
     },
     "execution_count": 116,
     "metadata": {},
     "output_type": "execute_result"
    }
   ],
   "source": [
    "arr[\n",
    "    2,\n",
    "    [0, 3]\n",
    "]"
   ]
  },
  {
   "cell_type": "code",
   "execution_count": 139,
   "metadata": {
    "collapsed": true
   },
   "outputs": [],
   "source": [
    "arr = np.array([0, -100, 42, 9])"
   ]
  },
  {
   "cell_type": "code",
   "execution_count": 142,
   "metadata": {
    "collapsed": false
   },
   "outputs": [
    {
     "data": {
      "text/plain": [
       "array([False, False,  True,  True], dtype=bool)"
      ]
     },
     "execution_count": 142,
     "metadata": {},
     "output_type": "execute_result"
    }
   ],
   "source": [
    "arr > 0"
   ]
  },
  {
   "cell_type": "code",
   "execution_count": 143,
   "metadata": {
    "collapsed": false
   },
   "outputs": [
    {
     "data": {
      "text/plain": [
       "array([42,  9])"
      ]
     },
     "execution_count": 143,
     "metadata": {},
     "output_type": "execute_result"
    }
   ],
   "source": [
    "arr[\n",
    "    arr > 0\n",
    "]"
   ]
  },
  {
   "cell_type": "code",
   "execution_count": null,
   "metadata": {
    "collapsed": true
   },
   "outputs": [],
   "source": []
  },
  {
   "cell_type": "code",
   "execution_count": 145,
   "metadata": {
    "collapsed": true
   },
   "outputs": [],
   "source": [
    "arr = np.arange(15).reshape(3, 5)"
   ]
  },
  {
   "cell_type": "code",
   "execution_count": 146,
   "metadata": {
    "collapsed": false
   },
   "outputs": [
    {
     "data": {
      "text/plain": [
       "array([[ 0,  1,  2,  3,  4],\n",
       "       [ 5,  6,  7,  8,  9],\n",
       "       [10, 11, 12, 13, 14]])"
      ]
     },
     "execution_count": 146,
     "metadata": {},
     "output_type": "execute_result"
    }
   ],
   "source": [
    "arr"
   ]
  },
  {
   "cell_type": "code",
   "execution_count": 147,
   "metadata": {
    "collapsed": false
   },
   "outputs": [
    {
     "data": {
      "text/plain": [
       "array([ 7, 13])"
      ]
     },
     "execution_count": 147,
     "metadata": {},
     "output_type": "execute_result"
    }
   ],
   "source": [
    "arr[\n",
    "    [1, 2],\n",
    "    [2, 3]\n",
    "]"
   ]
  },
  {
   "cell_type": "code",
   "execution_count": null,
   "metadata": {
    "collapsed": true
   },
   "outputs": [],
   "source": []
  },
  {
   "cell_type": "markdown",
   "metadata": {},
   "source": [
    "---\n",
    "### np array copy"
   ]
  },
  {
   "cell_type": "code",
   "execution_count": 118,
   "metadata": {
    "collapsed": true
   },
   "outputs": [],
   "source": [
    "a = np.array([5, 42, 100])"
   ]
  },
  {
   "cell_type": "code",
   "execution_count": 119,
   "metadata": {
    "collapsed": true
   },
   "outputs": [],
   "source": [
    "b = a[:]"
   ]
  },
  {
   "cell_type": "code",
   "execution_count": 120,
   "metadata": {
    "collapsed": false
   },
   "outputs": [
    {
     "data": {
      "text/plain": [
       "array([  5,  42, 100])"
      ]
     },
     "execution_count": 120,
     "metadata": {},
     "output_type": "execute_result"
    }
   ],
   "source": [
    "b"
   ]
  },
  {
   "cell_type": "code",
   "execution_count": 121,
   "metadata": {
    "collapsed": true
   },
   "outputs": [],
   "source": [
    "b[2] = -1"
   ]
  },
  {
   "cell_type": "code",
   "execution_count": 122,
   "metadata": {
    "collapsed": false
   },
   "outputs": [
    {
     "data": {
      "text/plain": [
       "array([ 5, 42, -1])"
      ]
     },
     "execution_count": 122,
     "metadata": {},
     "output_type": "execute_result"
    }
   ],
   "source": [
    "b"
   ]
  },
  {
   "cell_type": "code",
   "execution_count": 123,
   "metadata": {
    "collapsed": false
   },
   "outputs": [
    {
     "data": {
      "text/plain": [
       "array([ 5, 42, -1])"
      ]
     },
     "execution_count": 123,
     "metadata": {},
     "output_type": "execute_result"
    }
   ],
   "source": [
    "a"
   ]
  },
  {
   "cell_type": "markdown",
   "metadata": {},
   "source": [
    "---\n",
    "## array comparision"
   ]
  },
  {
   "cell_type": "code",
   "execution_count": 124,
   "metadata": {
    "collapsed": false
   },
   "outputs": [
    {
     "data": {
      "text/plain": [
       "array([ 5, 42, -1])"
      ]
     },
     "execution_count": 124,
     "metadata": {},
     "output_type": "execute_result"
    }
   ],
   "source": [
    "a"
   ]
  },
  {
   "cell_type": "code",
   "execution_count": 125,
   "metadata": {
    "collapsed": false
   },
   "outputs": [
    {
     "data": {
      "text/plain": [
       "array([ True,  True, False], dtype=bool)"
      ]
     },
     "execution_count": 125,
     "metadata": {},
     "output_type": "execute_result"
    }
   ],
   "source": [
    "a > 0"
   ]
  },
  {
   "cell_type": "markdown",
   "metadata": {},
   "source": [
    "---\n",
    "## axis"
   ]
  },
  {
   "cell_type": "code",
   "execution_count": 128,
   "metadata": {
    "collapsed": false
   },
   "outputs": [],
   "source": [
    "arr = np.arange(40).reshape(8, 5)"
   ]
  },
  {
   "cell_type": "code",
   "execution_count": 129,
   "metadata": {
    "collapsed": false
   },
   "outputs": [
    {
     "data": {
      "text/plain": [
       "array([[ 0,  1,  2,  3,  4],\n",
       "       [ 5,  6,  7,  8,  9],\n",
       "       [10, 11, 12, 13, 14],\n",
       "       [15, 16, 17, 18, 19],\n",
       "       [20, 21, 22, 23, 24],\n",
       "       [25, 26, 27, 28, 29],\n",
       "       [30, 31, 32, 33, 34],\n",
       "       [35, 36, 37, 38, 39]])"
      ]
     },
     "execution_count": 129,
     "metadata": {},
     "output_type": "execute_result"
    }
   ],
   "source": [
    "arr"
   ]
  },
  {
   "cell_type": "code",
   "execution_count": 130,
   "metadata": {
    "collapsed": false
   },
   "outputs": [
    {
     "data": {
      "text/plain": [
       "780"
      ]
     },
     "execution_count": 130,
     "metadata": {},
     "output_type": "execute_result"
    }
   ],
   "source": [
    "arr.sum()"
   ]
  },
  {
   "cell_type": "code",
   "execution_count": 132,
   "metadata": {
    "collapsed": false
   },
   "outputs": [
    {
     "data": {
      "text/plain": [
       "array([140, 148, 156, 164, 172])"
      ]
     },
     "execution_count": 132,
     "metadata": {},
     "output_type": "execute_result"
    }
   ],
   "source": [
    "arr.sum(axis=0)"
   ]
  },
  {
   "cell_type": "code",
   "execution_count": 133,
   "metadata": {
    "collapsed": false
   },
   "outputs": [
    {
     "data": {
      "text/plain": [
       "array([ 10,  35,  60,  85, 110, 135, 160, 185])"
      ]
     },
     "execution_count": 133,
     "metadata": {},
     "output_type": "execute_result"
    }
   ],
   "source": [
    "arr.sum(axis=1)"
   ]
  },
  {
   "cell_type": "markdown",
   "metadata": {},
   "source": [
    "---\n",
    "## broadcasting"
   ]
  },
  {
   "cell_type": "code",
   "execution_count": 135,
   "metadata": {
    "collapsed": false
   },
   "outputs": [
    {
     "data": {
      "text/plain": [
       "array([[ 0,  1,  2,  3,  4],\n",
       "       [ 5,  6,  7,  8,  9],\n",
       "       [10, 11, 12, 13, 14],\n",
       "       [15, 16, 17, 18, 19],\n",
       "       [20, 21, 22, 23, 24],\n",
       "       [25, 26, 27, 28, 29],\n",
       "       [30, 31, 32, 33, 34],\n",
       "       [35, 36, 37, 38, 39]])"
      ]
     },
     "execution_count": 135,
     "metadata": {},
     "output_type": "execute_result"
    }
   ],
   "source": [
    "arr "
   ]
  },
  {
   "cell_type": "code",
   "execution_count": 136,
   "metadata": {
    "collapsed": false
   },
   "outputs": [
    {
     "data": {
      "text/plain": [
       "array([[100, 101, 102, 103, 104],\n",
       "       [105, 106, 107, 108, 109],\n",
       "       [110, 111, 112, 113, 114],\n",
       "       [115, 116, 117, 118, 119],\n",
       "       [120, 121, 122, 123, 124],\n",
       "       [125, 126, 127, 128, 129],\n",
       "       [130, 131, 132, 133, 134],\n",
       "       [135, 136, 137, 138, 139]])"
      ]
     },
     "execution_count": 136,
     "metadata": {},
     "output_type": "execute_result"
    }
   ],
   "source": [
    "arr + np.array([100, 100, 100, 100, 100])"
   ]
  },
  {
   "cell_type": "code",
   "execution_count": null,
   "metadata": {
    "collapsed": true
   },
   "outputs": [],
   "source": []
  },
  {
   "cell_type": "markdown",
   "metadata": {},
   "source": [
    "---"
   ]
  },
  {
   "cell_type": "code",
   "execution_count": null,
   "metadata": {
    "collapsed": true
   },
   "outputs": [],
   "source": []
  },
  {
   "cell_type": "markdown",
   "metadata": {},
   "source": [
    "---\n",
    "\n",
    "# matplotlib\n",
    "\n",
    "在 jupyter 的起手式\n",
    "\n",
    "```python\n",
    "%matplotlib notebook\n",
    "\n",
    "import matplotlib.pyplot as plt\n",
    "```\n",
    "\n",
    "- http://matplotlib.org/examples/index.html"
   ]
  },
  {
   "cell_type": "markdown",
   "metadata": {},
   "source": [
    "- plot"
   ]
  },
  {
   "cell_type": "code",
   "execution_count": 148,
   "metadata": {
    "collapsed": true
   },
   "outputs": [],
   "source": [
    "%matplotlib notebook\n",
    "\n",
    "import matplotlib.pyplot as plt"
   ]
  },
  {
   "cell_type": "code",
   "execution_count": 153,
   "metadata": {
    "collapsed": false
   },
   "outputs": [],
   "source": [
    "arr = np.random.randn(90)"
   ]
  },
  {
   "cell_type": "code",
   "execution_count": 154,
   "metadata": {
    "collapsed": false,
    "scrolled": true
   },
   "outputs": [
    {
     "data": {
      "text/plain": [
       "array([  6.96515346e-01,   1.04056344e+00,  -2.96178541e-01,\n",
       "        -1.77355976e+00,  -1.14731385e+00,  -7.46386654e-01,\n",
       "        -1.33980669e+00,  -6.99235911e-01,   1.37541970e+00,\n",
       "        -1.25327558e+00,  -1.06003389e+00,  -1.00105016e-01,\n",
       "        -5.89305559e-02,   7.91050340e-01,   6.52813592e-01,\n",
       "        -9.85387242e-01,  -1.15018718e+00,   1.33664097e+00,\n",
       "         1.37403280e-01,  -8.29949292e-01,   9.29210780e-01,\n",
       "        -1.07313016e+00,   2.24074083e-01,   5.11529823e-01,\n",
       "         2.31299364e-01,  -2.09251017e+00,  -9.64506545e-01,\n",
       "        -7.25388492e-01,   2.28787310e-01,  -6.56531683e-01,\n",
       "         1.23332110e+00,   1.08502556e+00,  -6.34150669e-01,\n",
       "        -3.22031403e-01,  -5.22633549e-01,  -1.04097756e-01,\n",
       "        -6.88593166e-01,  -8.79474345e-01,   5.05322090e-01,\n",
       "         1.96629696e+00,   7.24589606e-01,   6.24290125e-01,\n",
       "         1.72282440e-01,  -5.12953511e-01,   9.46188077e-02,\n",
       "        -5.53293662e-01,  -1.64726685e+00,  -2.88423616e+00,\n",
       "         2.73958769e-04,  -1.95369900e+00,   9.73996415e-01,\n",
       "        -5.02292087e-01,   2.13110245e-01,   3.67698000e-01,\n",
       "        -4.63988566e-01,   6.95294684e-02,   9.86541954e-01,\n",
       "        -1.98491777e+00,  -8.46283008e-01,   9.33646028e-01,\n",
       "        -3.96486894e-01,  -9.96457644e-01,   7.12931355e-01,\n",
       "         1.06370473e+00,  -2.44471140e+00,  -3.98766171e-01,\n",
       "         5.84776259e-01,   4.10124957e-01,  -6.32835861e-01,\n",
       "         2.36304871e-01,  -1.52348979e-02,   1.39436163e+00,\n",
       "         1.82724235e+00,  -1.80621586e+00,   1.22366313e+00,\n",
       "         1.06431744e+00,   9.34524047e-01,  -5.66467019e-01,\n",
       "        -2.68894417e-01,   1.71493002e+00,  -2.59725697e-01,\n",
       "         1.73614939e-01,  -2.22550229e+00,   2.44520275e+00,\n",
       "         1.37707515e+00,   1.98160265e-01,   1.38401746e+00,\n",
       "        -2.32806532e-01,   2.51239440e-01,  -2.40498274e-01])"
      ]
     },
     "execution_count": 154,
     "metadata": {},
     "output_type": "execute_result"
    }
   ],
   "source": [
    "arr"
   ]
  },
  {
   "cell_type": "code",
   "execution_count": 157,
   "metadata": {
    "collapsed": false
   },
   "outputs": [
    {
     "data": {
      "application/javascript": [
       "/* Put everything inside the global mpl namespace */\n",
       "window.mpl = {};\n",
       "\n",
       "mpl.get_websocket_type = function() {\n",
       "    if (typeof(WebSocket) !== 'undefined') {\n",
       "        return WebSocket;\n",
       "    } else if (typeof(MozWebSocket) !== 'undefined') {\n",
       "        return MozWebSocket;\n",
       "    } else {\n",
       "        alert('Your browser does not have WebSocket support.' +\n",
       "              'Please try Chrome, Safari or Firefox ≥ 6. ' +\n",
       "              'Firefox 4 and 5 are also supported but you ' +\n",
       "              'have to enable WebSockets in about:config.');\n",
       "    };\n",
       "}\n",
       "\n",
       "mpl.figure = function(figure_id, websocket, ondownload, parent_element) {\n",
       "    this.id = figure_id;\n",
       "\n",
       "    this.ws = websocket;\n",
       "\n",
       "    this.supports_binary = (this.ws.binaryType != undefined);\n",
       "\n",
       "    if (!this.supports_binary) {\n",
       "        var warnings = document.getElementById(\"mpl-warnings\");\n",
       "        if (warnings) {\n",
       "            warnings.style.display = 'block';\n",
       "            warnings.textContent = (\n",
       "                \"This browser does not support binary websocket messages. \" +\n",
       "                    \"Performance may be slow.\");\n",
       "        }\n",
       "    }\n",
       "\n",
       "    this.imageObj = new Image();\n",
       "\n",
       "    this.context = undefined;\n",
       "    this.message = undefined;\n",
       "    this.canvas = undefined;\n",
       "    this.rubberband_canvas = undefined;\n",
       "    this.rubberband_context = undefined;\n",
       "    this.format_dropdown = undefined;\n",
       "\n",
       "    this.image_mode = 'full';\n",
       "\n",
       "    this.root = $('<div/>');\n",
       "    this._root_extra_style(this.root)\n",
       "    this.root.attr('style', 'display: inline-block');\n",
       "\n",
       "    $(parent_element).append(this.root);\n",
       "\n",
       "    this._init_header(this);\n",
       "    this._init_canvas(this);\n",
       "    this._init_toolbar(this);\n",
       "\n",
       "    var fig = this;\n",
       "\n",
       "    this.waiting = false;\n",
       "\n",
       "    this.ws.onopen =  function () {\n",
       "            fig.send_message(\"supports_binary\", {value: fig.supports_binary});\n",
       "            fig.send_message(\"send_image_mode\", {});\n",
       "            fig.send_message(\"refresh\", {});\n",
       "        }\n",
       "\n",
       "    this.imageObj.onload = function() {\n",
       "            if (fig.image_mode == 'full') {\n",
       "                // Full images could contain transparency (where diff images\n",
       "                // almost always do), so we need to clear the canvas so that\n",
       "                // there is no ghosting.\n",
       "                fig.context.clearRect(0, 0, fig.canvas.width, fig.canvas.height);\n",
       "            }\n",
       "            fig.context.drawImage(fig.imageObj, 0, 0);\n",
       "        };\n",
       "\n",
       "    this.imageObj.onunload = function() {\n",
       "        this.ws.close();\n",
       "    }\n",
       "\n",
       "    this.ws.onmessage = this._make_on_message_function(this);\n",
       "\n",
       "    this.ondownload = ondownload;\n",
       "}\n",
       "\n",
       "mpl.figure.prototype._init_header = function() {\n",
       "    var titlebar = $(\n",
       "        '<div class=\"ui-dialog-titlebar ui-widget-header ui-corner-all ' +\n",
       "        'ui-helper-clearfix\"/>');\n",
       "    var titletext = $(\n",
       "        '<div class=\"ui-dialog-title\" style=\"width: 100%; ' +\n",
       "        'text-align: center; padding: 3px;\"/>');\n",
       "    titlebar.append(titletext)\n",
       "    this.root.append(titlebar);\n",
       "    this.header = titletext[0];\n",
       "}\n",
       "\n",
       "\n",
       "\n",
       "mpl.figure.prototype._canvas_extra_style = function(canvas_div) {\n",
       "\n",
       "}\n",
       "\n",
       "\n",
       "mpl.figure.prototype._root_extra_style = function(canvas_div) {\n",
       "\n",
       "}\n",
       "\n",
       "mpl.figure.prototype._init_canvas = function() {\n",
       "    var fig = this;\n",
       "\n",
       "    var canvas_div = $('<div/>');\n",
       "\n",
       "    canvas_div.attr('style', 'position: relative; clear: both; outline: 0');\n",
       "\n",
       "    function canvas_keyboard_event(event) {\n",
       "        return fig.key_event(event, event['data']);\n",
       "    }\n",
       "\n",
       "    canvas_div.keydown('key_press', canvas_keyboard_event);\n",
       "    canvas_div.keyup('key_release', canvas_keyboard_event);\n",
       "    this.canvas_div = canvas_div\n",
       "    this._canvas_extra_style(canvas_div)\n",
       "    this.root.append(canvas_div);\n",
       "\n",
       "    var canvas = $('<canvas/>');\n",
       "    canvas.addClass('mpl-canvas');\n",
       "    canvas.attr('style', \"left: 0; top: 0; z-index: 0; outline: 0\")\n",
       "\n",
       "    this.canvas = canvas[0];\n",
       "    this.context = canvas[0].getContext(\"2d\");\n",
       "\n",
       "    var rubberband = $('<canvas/>');\n",
       "    rubberband.attr('style', \"position: absolute; left: 0; top: 0; z-index: 1;\")\n",
       "\n",
       "    var pass_mouse_events = true;\n",
       "\n",
       "    canvas_div.resizable({\n",
       "        start: function(event, ui) {\n",
       "            pass_mouse_events = false;\n",
       "        },\n",
       "        resize: function(event, ui) {\n",
       "            fig.request_resize(ui.size.width, ui.size.height);\n",
       "        },\n",
       "        stop: function(event, ui) {\n",
       "            pass_mouse_events = true;\n",
       "            fig.request_resize(ui.size.width, ui.size.height);\n",
       "        },\n",
       "    });\n",
       "\n",
       "    function mouse_event_fn(event) {\n",
       "        if (pass_mouse_events)\n",
       "            return fig.mouse_event(event, event['data']);\n",
       "    }\n",
       "\n",
       "    rubberband.mousedown('button_press', mouse_event_fn);\n",
       "    rubberband.mouseup('button_release', mouse_event_fn);\n",
       "    // Throttle sequential mouse events to 1 every 20ms.\n",
       "    rubberband.mousemove('motion_notify', mouse_event_fn);\n",
       "\n",
       "    rubberband.mouseenter('figure_enter', mouse_event_fn);\n",
       "    rubberband.mouseleave('figure_leave', mouse_event_fn);\n",
       "\n",
       "    canvas_div.on(\"wheel\", function (event) {\n",
       "        event = event.originalEvent;\n",
       "        event['data'] = 'scroll'\n",
       "        if (event.deltaY < 0) {\n",
       "            event.step = 1;\n",
       "        } else {\n",
       "            event.step = -1;\n",
       "        }\n",
       "        mouse_event_fn(event);\n",
       "    });\n",
       "\n",
       "    canvas_div.append(canvas);\n",
       "    canvas_div.append(rubberband);\n",
       "\n",
       "    this.rubberband = rubberband;\n",
       "    this.rubberband_canvas = rubberband[0];\n",
       "    this.rubberband_context = rubberband[0].getContext(\"2d\");\n",
       "    this.rubberband_context.strokeStyle = \"#000000\";\n",
       "\n",
       "    this._resize_canvas = function(width, height) {\n",
       "        // Keep the size of the canvas, canvas container, and rubber band\n",
       "        // canvas in synch.\n",
       "        canvas_div.css('width', width)\n",
       "        canvas_div.css('height', height)\n",
       "\n",
       "        canvas.attr('width', width);\n",
       "        canvas.attr('height', height);\n",
       "\n",
       "        rubberband.attr('width', width);\n",
       "        rubberband.attr('height', height);\n",
       "    }\n",
       "\n",
       "    // Set the figure to an initial 600x600px, this will subsequently be updated\n",
       "    // upon first draw.\n",
       "    this._resize_canvas(600, 600);\n",
       "\n",
       "    // Disable right mouse context menu.\n",
       "    $(this.rubberband_canvas).bind(\"contextmenu\",function(e){\n",
       "        return false;\n",
       "    });\n",
       "\n",
       "    function set_focus () {\n",
       "        canvas.focus();\n",
       "        canvas_div.focus();\n",
       "    }\n",
       "\n",
       "    window.setTimeout(set_focus, 100);\n",
       "}\n",
       "\n",
       "mpl.figure.prototype._init_toolbar = function() {\n",
       "    var fig = this;\n",
       "\n",
       "    var nav_element = $('<div/>')\n",
       "    nav_element.attr('style', 'width: 100%');\n",
       "    this.root.append(nav_element);\n",
       "\n",
       "    // Define a callback function for later on.\n",
       "    function toolbar_event(event) {\n",
       "        return fig.toolbar_button_onclick(event['data']);\n",
       "    }\n",
       "    function toolbar_mouse_event(event) {\n",
       "        return fig.toolbar_button_onmouseover(event['data']);\n",
       "    }\n",
       "\n",
       "    for(var toolbar_ind in mpl.toolbar_items) {\n",
       "        var name = mpl.toolbar_items[toolbar_ind][0];\n",
       "        var tooltip = mpl.toolbar_items[toolbar_ind][1];\n",
       "        var image = mpl.toolbar_items[toolbar_ind][2];\n",
       "        var method_name = mpl.toolbar_items[toolbar_ind][3];\n",
       "\n",
       "        if (!name) {\n",
       "            // put a spacer in here.\n",
       "            continue;\n",
       "        }\n",
       "        var button = $('<button/>');\n",
       "        button.addClass('ui-button ui-widget ui-state-default ui-corner-all ' +\n",
       "                        'ui-button-icon-only');\n",
       "        button.attr('role', 'button');\n",
       "        button.attr('aria-disabled', 'false');\n",
       "        button.click(method_name, toolbar_event);\n",
       "        button.mouseover(tooltip, toolbar_mouse_event);\n",
       "\n",
       "        var icon_img = $('<span/>');\n",
       "        icon_img.addClass('ui-button-icon-primary ui-icon');\n",
       "        icon_img.addClass(image);\n",
       "        icon_img.addClass('ui-corner-all');\n",
       "\n",
       "        var tooltip_span = $('<span/>');\n",
       "        tooltip_span.addClass('ui-button-text');\n",
       "        tooltip_span.html(tooltip);\n",
       "\n",
       "        button.append(icon_img);\n",
       "        button.append(tooltip_span);\n",
       "\n",
       "        nav_element.append(button);\n",
       "    }\n",
       "\n",
       "    var fmt_picker_span = $('<span/>');\n",
       "\n",
       "    var fmt_picker = $('<select/>');\n",
       "    fmt_picker.addClass('mpl-toolbar-option ui-widget ui-widget-content');\n",
       "    fmt_picker_span.append(fmt_picker);\n",
       "    nav_element.append(fmt_picker_span);\n",
       "    this.format_dropdown = fmt_picker[0];\n",
       "\n",
       "    for (var ind in mpl.extensions) {\n",
       "        var fmt = mpl.extensions[ind];\n",
       "        var option = $(\n",
       "            '<option/>', {selected: fmt === mpl.default_extension}).html(fmt);\n",
       "        fmt_picker.append(option)\n",
       "    }\n",
       "\n",
       "    // Add hover states to the ui-buttons\n",
       "    $( \".ui-button\" ).hover(\n",
       "        function() { $(this).addClass(\"ui-state-hover\");},\n",
       "        function() { $(this).removeClass(\"ui-state-hover\");}\n",
       "    );\n",
       "\n",
       "    var status_bar = $('<span class=\"mpl-message\"/>');\n",
       "    nav_element.append(status_bar);\n",
       "    this.message = status_bar[0];\n",
       "}\n",
       "\n",
       "mpl.figure.prototype.request_resize = function(x_pixels, y_pixels) {\n",
       "    // Request matplotlib to resize the figure. Matplotlib will then trigger a resize in the client,\n",
       "    // which will in turn request a refresh of the image.\n",
       "    this.send_message('resize', {'width': x_pixels, 'height': y_pixels});\n",
       "}\n",
       "\n",
       "mpl.figure.prototype.send_message = function(type, properties) {\n",
       "    properties['type'] = type;\n",
       "    properties['figure_id'] = this.id;\n",
       "    this.ws.send(JSON.stringify(properties));\n",
       "}\n",
       "\n",
       "mpl.figure.prototype.send_draw_message = function() {\n",
       "    if (!this.waiting) {\n",
       "        this.waiting = true;\n",
       "        this.ws.send(JSON.stringify({type: \"draw\", figure_id: this.id}));\n",
       "    }\n",
       "}\n",
       "\n",
       "\n",
       "mpl.figure.prototype.handle_save = function(fig, msg) {\n",
       "    var format_dropdown = fig.format_dropdown;\n",
       "    var format = format_dropdown.options[format_dropdown.selectedIndex].value;\n",
       "    fig.ondownload(fig, format);\n",
       "}\n",
       "\n",
       "\n",
       "mpl.figure.prototype.handle_resize = function(fig, msg) {\n",
       "    var size = msg['size'];\n",
       "    if (size[0] != fig.canvas.width || size[1] != fig.canvas.height) {\n",
       "        fig._resize_canvas(size[0], size[1]);\n",
       "        fig.send_message(\"refresh\", {});\n",
       "    };\n",
       "}\n",
       "\n",
       "mpl.figure.prototype.handle_rubberband = function(fig, msg) {\n",
       "    var x0 = msg['x0'];\n",
       "    var y0 = fig.canvas.height - msg['y0'];\n",
       "    var x1 = msg['x1'];\n",
       "    var y1 = fig.canvas.height - msg['y1'];\n",
       "    x0 = Math.floor(x0) + 0.5;\n",
       "    y0 = Math.floor(y0) + 0.5;\n",
       "    x1 = Math.floor(x1) + 0.5;\n",
       "    y1 = Math.floor(y1) + 0.5;\n",
       "    var min_x = Math.min(x0, x1);\n",
       "    var min_y = Math.min(y0, y1);\n",
       "    var width = Math.abs(x1 - x0);\n",
       "    var height = Math.abs(y1 - y0);\n",
       "\n",
       "    fig.rubberband_context.clearRect(\n",
       "        0, 0, fig.canvas.width, fig.canvas.height);\n",
       "\n",
       "    fig.rubberband_context.strokeRect(min_x, min_y, width, height);\n",
       "}\n",
       "\n",
       "mpl.figure.prototype.handle_figure_label = function(fig, msg) {\n",
       "    // Updates the figure title.\n",
       "    fig.header.textContent = msg['label'];\n",
       "}\n",
       "\n",
       "mpl.figure.prototype.handle_cursor = function(fig, msg) {\n",
       "    var cursor = msg['cursor'];\n",
       "    switch(cursor)\n",
       "    {\n",
       "    case 0:\n",
       "        cursor = 'pointer';\n",
       "        break;\n",
       "    case 1:\n",
       "        cursor = 'default';\n",
       "        break;\n",
       "    case 2:\n",
       "        cursor = 'crosshair';\n",
       "        break;\n",
       "    case 3:\n",
       "        cursor = 'move';\n",
       "        break;\n",
       "    }\n",
       "    fig.rubberband_canvas.style.cursor = cursor;\n",
       "}\n",
       "\n",
       "mpl.figure.prototype.handle_message = function(fig, msg) {\n",
       "    fig.message.textContent = msg['message'];\n",
       "}\n",
       "\n",
       "mpl.figure.prototype.handle_draw = function(fig, msg) {\n",
       "    // Request the server to send over a new figure.\n",
       "    fig.send_draw_message();\n",
       "}\n",
       "\n",
       "mpl.figure.prototype.handle_image_mode = function(fig, msg) {\n",
       "    fig.image_mode = msg['mode'];\n",
       "}\n",
       "\n",
       "mpl.figure.prototype.updated_canvas_event = function() {\n",
       "    // Called whenever the canvas gets updated.\n",
       "    this.send_message(\"ack\", {});\n",
       "}\n",
       "\n",
       "// A function to construct a web socket function for onmessage handling.\n",
       "// Called in the figure constructor.\n",
       "mpl.figure.prototype._make_on_message_function = function(fig) {\n",
       "    return function socket_on_message(evt) {\n",
       "        if (evt.data instanceof Blob) {\n",
       "            /* FIXME: We get \"Resource interpreted as Image but\n",
       "             * transferred with MIME type text/plain:\" errors on\n",
       "             * Chrome.  But how to set the MIME type?  It doesn't seem\n",
       "             * to be part of the websocket stream */\n",
       "            evt.data.type = \"image/png\";\n",
       "\n",
       "            /* Free the memory for the previous frames */\n",
       "            if (fig.imageObj.src) {\n",
       "                (window.URL || window.webkitURL).revokeObjectURL(\n",
       "                    fig.imageObj.src);\n",
       "            }\n",
       "\n",
       "            fig.imageObj.src = (window.URL || window.webkitURL).createObjectURL(\n",
       "                evt.data);\n",
       "            fig.updated_canvas_event();\n",
       "            fig.waiting = false;\n",
       "            return;\n",
       "        }\n",
       "        else if (typeof evt.data === 'string' && evt.data.slice(0, 21) == \"data:image/png;base64\") {\n",
       "            fig.imageObj.src = evt.data;\n",
       "            fig.updated_canvas_event();\n",
       "            fig.waiting = false;\n",
       "            return;\n",
       "        }\n",
       "\n",
       "        var msg = JSON.parse(evt.data);\n",
       "        var msg_type = msg['type'];\n",
       "\n",
       "        // Call the  \"handle_{type}\" callback, which takes\n",
       "        // the figure and JSON message as its only arguments.\n",
       "        try {\n",
       "            var callback = fig[\"handle_\" + msg_type];\n",
       "        } catch (e) {\n",
       "            console.log(\"No handler for the '\" + msg_type + \"' message type: \", msg);\n",
       "            return;\n",
       "        }\n",
       "\n",
       "        if (callback) {\n",
       "            try {\n",
       "                // console.log(\"Handling '\" + msg_type + \"' message: \", msg);\n",
       "                callback(fig, msg);\n",
       "            } catch (e) {\n",
       "                console.log(\"Exception inside the 'handler_\" + msg_type + \"' callback:\", e, e.stack, msg);\n",
       "            }\n",
       "        }\n",
       "    };\n",
       "}\n",
       "\n",
       "// from http://stackoverflow.com/questions/1114465/getting-mouse-location-in-canvas\n",
       "mpl.findpos = function(e) {\n",
       "    //this section is from http://www.quirksmode.org/js/events_properties.html\n",
       "    var targ;\n",
       "    if (!e)\n",
       "        e = window.event;\n",
       "    if (e.target)\n",
       "        targ = e.target;\n",
       "    else if (e.srcElement)\n",
       "        targ = e.srcElement;\n",
       "    if (targ.nodeType == 3) // defeat Safari bug\n",
       "        targ = targ.parentNode;\n",
       "\n",
       "    // jQuery normalizes the pageX and pageY\n",
       "    // pageX,Y are the mouse positions relative to the document\n",
       "    // offset() returns the position of the element relative to the document\n",
       "    var x = e.pageX - $(targ).offset().left;\n",
       "    var y = e.pageY - $(targ).offset().top;\n",
       "\n",
       "    return {\"x\": x, \"y\": y};\n",
       "};\n",
       "\n",
       "/*\n",
       " * return a copy of an object with only non-object keys\n",
       " * we need this to avoid circular references\n",
       " * http://stackoverflow.com/a/24161582/3208463\n",
       " */\n",
       "function simpleKeys (original) {\n",
       "  return Object.keys(original).reduce(function (obj, key) {\n",
       "    if (typeof original[key] !== 'object')\n",
       "        obj[key] = original[key]\n",
       "    return obj;\n",
       "  }, {});\n",
       "}\n",
       "\n",
       "mpl.figure.prototype.mouse_event = function(event, name) {\n",
       "    var canvas_pos = mpl.findpos(event)\n",
       "\n",
       "    if (name === 'button_press')\n",
       "    {\n",
       "        this.canvas.focus();\n",
       "        this.canvas_div.focus();\n",
       "    }\n",
       "\n",
       "    var x = canvas_pos.x;\n",
       "    var y = canvas_pos.y;\n",
       "\n",
       "    this.send_message(name, {x: x, y: y, button: event.button,\n",
       "                             step: event.step,\n",
       "                             guiEvent: simpleKeys(event)});\n",
       "\n",
       "    /* This prevents the web browser from automatically changing to\n",
       "     * the text insertion cursor when the button is pressed.  We want\n",
       "     * to control all of the cursor setting manually through the\n",
       "     * 'cursor' event from matplotlib */\n",
       "    event.preventDefault();\n",
       "    return false;\n",
       "}\n",
       "\n",
       "mpl.figure.prototype._key_event_extra = function(event, name) {\n",
       "    // Handle any extra behaviour associated with a key event\n",
       "}\n",
       "\n",
       "mpl.figure.prototype.key_event = function(event, name) {\n",
       "\n",
       "    // Prevent repeat events\n",
       "    if (name == 'key_press')\n",
       "    {\n",
       "        if (event.which === this._key)\n",
       "            return;\n",
       "        else\n",
       "            this._key = event.which;\n",
       "    }\n",
       "    if (name == 'key_release')\n",
       "        this._key = null;\n",
       "\n",
       "    var value = '';\n",
       "    if (event.ctrlKey && event.which != 17)\n",
       "        value += \"ctrl+\";\n",
       "    if (event.altKey && event.which != 18)\n",
       "        value += \"alt+\";\n",
       "    if (event.shiftKey && event.which != 16)\n",
       "        value += \"shift+\";\n",
       "\n",
       "    value += 'k';\n",
       "    value += event.which.toString();\n",
       "\n",
       "    this._key_event_extra(event, name);\n",
       "\n",
       "    this.send_message(name, {key: value,\n",
       "                             guiEvent: simpleKeys(event)});\n",
       "    return false;\n",
       "}\n",
       "\n",
       "mpl.figure.prototype.toolbar_button_onclick = function(name) {\n",
       "    if (name == 'download') {\n",
       "        this.handle_save(this, null);\n",
       "    } else {\n",
       "        this.send_message(\"toolbar_button\", {name: name});\n",
       "    }\n",
       "};\n",
       "\n",
       "mpl.figure.prototype.toolbar_button_onmouseover = function(tooltip) {\n",
       "    this.message.textContent = tooltip;\n",
       "};\n",
       "mpl.toolbar_items = [[\"Home\", \"Reset original view\", \"fa fa-home icon-home\", \"home\"], [\"Back\", \"Back to  previous view\", \"fa fa-arrow-left icon-arrow-left\", \"back\"], [\"Forward\", \"Forward to next view\", \"fa fa-arrow-right icon-arrow-right\", \"forward\"], [\"\", \"\", \"\", \"\"], [\"Pan\", \"Pan axes with left mouse, zoom with right\", \"fa fa-arrows icon-move\", \"pan\"], [\"Zoom\", \"Zoom to rectangle\", \"fa fa-square-o icon-check-empty\", \"zoom\"], [\"\", \"\", \"\", \"\"], [\"Download\", \"Download plot\", \"fa fa-floppy-o icon-save\", \"download\"]];\n",
       "\n",
       "mpl.extensions = [\"eps\", \"pdf\", \"png\", \"ps\", \"raw\", \"svg\"];\n",
       "\n",
       "mpl.default_extension = \"png\";var comm_websocket_adapter = function(comm) {\n",
       "    // Create a \"websocket\"-like object which calls the given IPython comm\n",
       "    // object with the appropriate methods. Currently this is a non binary\n",
       "    // socket, so there is still some room for performance tuning.\n",
       "    var ws = {};\n",
       "\n",
       "    ws.close = function() {\n",
       "        comm.close()\n",
       "    };\n",
       "    ws.send = function(m) {\n",
       "        //console.log('sending', m);\n",
       "        comm.send(m);\n",
       "    };\n",
       "    // Register the callback with on_msg.\n",
       "    comm.on_msg(function(msg) {\n",
       "        //console.log('receiving', msg['content']['data'], msg);\n",
       "        // Pass the mpl event to the overriden (by mpl) onmessage function.\n",
       "        ws.onmessage(msg['content']['data'])\n",
       "    });\n",
       "    return ws;\n",
       "}\n",
       "\n",
       "mpl.mpl_figure_comm = function(comm, msg) {\n",
       "    // This is the function which gets called when the mpl process\n",
       "    // starts-up an IPython Comm through the \"matplotlib\" channel.\n",
       "\n",
       "    var id = msg.content.data.id;\n",
       "    // Get hold of the div created by the display call when the Comm\n",
       "    // socket was opened in Python.\n",
       "    var element = $(\"#\" + id);\n",
       "    var ws_proxy = comm_websocket_adapter(comm)\n",
       "\n",
       "    function ondownload(figure, format) {\n",
       "        window.open(figure.imageObj.src);\n",
       "    }\n",
       "\n",
       "    var fig = new mpl.figure(id, ws_proxy,\n",
       "                           ondownload,\n",
       "                           element.get(0));\n",
       "\n",
       "    // Call onopen now - mpl needs it, as it is assuming we've passed it a real\n",
       "    // web socket which is closed, not our websocket->open comm proxy.\n",
       "    ws_proxy.onopen();\n",
       "\n",
       "    fig.parent_element = element.get(0);\n",
       "    fig.cell_info = mpl.find_output_cell(\"<div id='\" + id + \"'></div>\");\n",
       "    if (!fig.cell_info) {\n",
       "        console.error(\"Failed to find cell for figure\", id, fig);\n",
       "        return;\n",
       "    }\n",
       "\n",
       "    var output_index = fig.cell_info[2]\n",
       "    var cell = fig.cell_info[0];\n",
       "\n",
       "};\n",
       "\n",
       "mpl.figure.prototype.handle_close = function(fig, msg) {\n",
       "    fig.root.unbind('remove')\n",
       "\n",
       "    // Update the output cell to use the data from the current canvas.\n",
       "    fig.push_to_output();\n",
       "    var dataURL = fig.canvas.toDataURL();\n",
       "    // Re-enable the keyboard manager in IPython - without this line, in FF,\n",
       "    // the notebook keyboard shortcuts fail.\n",
       "    IPython.keyboard_manager.enable()\n",
       "    $(fig.parent_element).html('<img src=\"' + dataURL + '\">');\n",
       "    fig.close_ws(fig, msg);\n",
       "}\n",
       "\n",
       "mpl.figure.prototype.close_ws = function(fig, msg){\n",
       "    fig.send_message('closing', msg);\n",
       "    // fig.ws.close()\n",
       "}\n",
       "\n",
       "mpl.figure.prototype.push_to_output = function(remove_interactive) {\n",
       "    // Turn the data on the canvas into data in the output cell.\n",
       "    var dataURL = this.canvas.toDataURL();\n",
       "    this.cell_info[1]['text/html'] = '<img src=\"' + dataURL + '\">';\n",
       "}\n",
       "\n",
       "mpl.figure.prototype.updated_canvas_event = function() {\n",
       "    // Tell IPython that the notebook contents must change.\n",
       "    IPython.notebook.set_dirty(true);\n",
       "    this.send_message(\"ack\", {});\n",
       "    var fig = this;\n",
       "    // Wait a second, then push the new image to the DOM so\n",
       "    // that it is saved nicely (might be nice to debounce this).\n",
       "    setTimeout(function () { fig.push_to_output() }, 1000);\n",
       "}\n",
       "\n",
       "mpl.figure.prototype._init_toolbar = function() {\n",
       "    var fig = this;\n",
       "\n",
       "    var nav_element = $('<div/>')\n",
       "    nav_element.attr('style', 'width: 100%');\n",
       "    this.root.append(nav_element);\n",
       "\n",
       "    // Define a callback function for later on.\n",
       "    function toolbar_event(event) {\n",
       "        return fig.toolbar_button_onclick(event['data']);\n",
       "    }\n",
       "    function toolbar_mouse_event(event) {\n",
       "        return fig.toolbar_button_onmouseover(event['data']);\n",
       "    }\n",
       "\n",
       "    for(var toolbar_ind in mpl.toolbar_items){\n",
       "        var name = mpl.toolbar_items[toolbar_ind][0];\n",
       "        var tooltip = mpl.toolbar_items[toolbar_ind][1];\n",
       "        var image = mpl.toolbar_items[toolbar_ind][2];\n",
       "        var method_name = mpl.toolbar_items[toolbar_ind][3];\n",
       "\n",
       "        if (!name) { continue; };\n",
       "\n",
       "        var button = $('<button class=\"btn btn-default\" href=\"#\" title=\"' + name + '\"><i class=\"fa ' + image + ' fa-lg\"></i></button>');\n",
       "        button.click(method_name, toolbar_event);\n",
       "        button.mouseover(tooltip, toolbar_mouse_event);\n",
       "        nav_element.append(button);\n",
       "    }\n",
       "\n",
       "    // Add the status bar.\n",
       "    var status_bar = $('<span class=\"mpl-message\" style=\"text-align:right; float: right;\"/>');\n",
       "    nav_element.append(status_bar);\n",
       "    this.message = status_bar[0];\n",
       "\n",
       "    // Add the close button to the window.\n",
       "    var buttongrp = $('<div class=\"btn-group inline pull-right\"></div>');\n",
       "    var button = $('<button class=\"btn btn-mini btn-primary\" href=\"#\" title=\"Stop Interaction\"><i class=\"fa fa-power-off icon-remove icon-large\"></i></button>');\n",
       "    button.click(function (evt) { fig.handle_close(fig, {}); } );\n",
       "    button.mouseover('Stop Interaction', toolbar_mouse_event);\n",
       "    buttongrp.append(button);\n",
       "    var titlebar = this.root.find($('.ui-dialog-titlebar'));\n",
       "    titlebar.prepend(buttongrp);\n",
       "}\n",
       "\n",
       "mpl.figure.prototype._root_extra_style = function(el){\n",
       "    var fig = this\n",
       "    el.on(\"remove\", function(){\n",
       "\tfig.close_ws(fig, {});\n",
       "    });\n",
       "}\n",
       "\n",
       "mpl.figure.prototype._canvas_extra_style = function(el){\n",
       "    // this is important to make the div 'focusable\n",
       "    el.attr('tabindex', 0)\n",
       "    // reach out to IPython and tell the keyboard manager to turn it's self\n",
       "    // off when our div gets focus\n",
       "\n",
       "    // location in version 3\n",
       "    if (IPython.notebook.keyboard_manager) {\n",
       "        IPython.notebook.keyboard_manager.register_events(el);\n",
       "    }\n",
       "    else {\n",
       "        // location in version 2\n",
       "        IPython.keyboard_manager.register_events(el);\n",
       "    }\n",
       "\n",
       "}\n",
       "\n",
       "mpl.figure.prototype._key_event_extra = function(event, name) {\n",
       "    var manager = IPython.notebook.keyboard_manager;\n",
       "    if (!manager)\n",
       "        manager = IPython.keyboard_manager;\n",
       "\n",
       "    // Check for shift+enter\n",
       "    if (event.shiftKey && event.which == 13) {\n",
       "        this.canvas_div.blur();\n",
       "        event.shiftKey = false;\n",
       "        // Send a \"J\" for go to next cell\n",
       "        event.which = 74;\n",
       "        event.keyCode = 74;\n",
       "        manager.command_mode();\n",
       "        manager.handle_keydown(event);\n",
       "    }\n",
       "}\n",
       "\n",
       "mpl.figure.prototype.handle_save = function(fig, msg) {\n",
       "    fig.ondownload(fig, null);\n",
       "}\n",
       "\n",
       "\n",
       "mpl.find_output_cell = function(html_output) {\n",
       "    // Return the cell and output element which can be found *uniquely* in the notebook.\n",
       "    // Note - this is a bit hacky, but it is done because the \"notebook_saving.Notebook\"\n",
       "    // IPython event is triggered only after the cells have been serialised, which for\n",
       "    // our purposes (turning an active figure into a static one), is too late.\n",
       "    var cells = IPython.notebook.get_cells();\n",
       "    var ncells = cells.length;\n",
       "    for (var i=0; i<ncells; i++) {\n",
       "        var cell = cells[i];\n",
       "        if (cell.cell_type === 'code'){\n",
       "            for (var j=0; j<cell.output_area.outputs.length; j++) {\n",
       "                var data = cell.output_area.outputs[j];\n",
       "                if (data.data) {\n",
       "                    // IPython >= 3 moved mimebundle to data attribute of output\n",
       "                    data = data.data;\n",
       "                }\n",
       "                if (data['text/html'] == html_output) {\n",
       "                    return [cell, data, j];\n",
       "                }\n",
       "            }\n",
       "        }\n",
       "    }\n",
       "}\n",
       "\n",
       "// Register the function which deals with the matplotlib target/channel.\n",
       "// The kernel may be null if the page has been refreshed.\n",
       "if (IPython.notebook.kernel != null) {\n",
       "    IPython.notebook.kernel.comm_manager.register_target('matplotlib', mpl.mpl_figure_comm);\n",
       "}\n"
      ],
      "text/plain": [
       "<IPython.core.display.Javascript object>"
      ]
     },
     "metadata": {},
     "output_type": "display_data"
    },
    {
     "data": {
      "text/html": [
       "<img src=\"data:image/png;base64,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\">"
      ],
      "text/plain": [
       "<IPython.core.display.HTML object>"
      ]
     },
     "metadata": {},
     "output_type": "display_data"
    },
    {
     "data": {
      "text/plain": [
       "[<matplotlib.lines.Line2D at 0x10d390588>]"
      ]
     },
     "execution_count": 157,
     "metadata": {},
     "output_type": "execute_result"
    }
   ],
   "source": [
    "plt.plot(arr, np.random.randn(90) + 20, 'o')"
   ]
  },
  {
   "cell_type": "code",
   "execution_count": null,
   "metadata": {
    "collapsed": true
   },
   "outputs": [],
   "source": []
  },
  {
   "cell_type": "markdown",
   "metadata": {},
   "source": [
    "---\n",
    "### 3d ploting"
   ]
  },
  {
   "cell_type": "code",
   "execution_count": 161,
   "metadata": {
    "collapsed": false,
    "scrolled": false
   },
   "outputs": [
    {
     "data": {
      "application/javascript": [
       "/* Put everything inside the global mpl namespace */\n",
       "window.mpl = {};\n",
       "\n",
       "mpl.get_websocket_type = function() {\n",
       "    if (typeof(WebSocket) !== 'undefined') {\n",
       "        return WebSocket;\n",
       "    } else if (typeof(MozWebSocket) !== 'undefined') {\n",
       "        return MozWebSocket;\n",
       "    } else {\n",
       "        alert('Your browser does not have WebSocket support.' +\n",
       "              'Please try Chrome, Safari or Firefox ≥ 6. ' +\n",
       "              'Firefox 4 and 5 are also supported but you ' +\n",
       "              'have to enable WebSockets in about:config.');\n",
       "    };\n",
       "}\n",
       "\n",
       "mpl.figure = function(figure_id, websocket, ondownload, parent_element) {\n",
       "    this.id = figure_id;\n",
       "\n",
       "    this.ws = websocket;\n",
       "\n",
       "    this.supports_binary = (this.ws.binaryType != undefined);\n",
       "\n",
       "    if (!this.supports_binary) {\n",
       "        var warnings = document.getElementById(\"mpl-warnings\");\n",
       "        if (warnings) {\n",
       "            warnings.style.display = 'block';\n",
       "            warnings.textContent = (\n",
       "                \"This browser does not support binary websocket messages. \" +\n",
       "                    \"Performance may be slow.\");\n",
       "        }\n",
       "    }\n",
       "\n",
       "    this.imageObj = new Image();\n",
       "\n",
       "    this.context = undefined;\n",
       "    this.message = undefined;\n",
       "    this.canvas = undefined;\n",
       "    this.rubberband_canvas = undefined;\n",
       "    this.rubberband_context = undefined;\n",
       "    this.format_dropdown = undefined;\n",
       "\n",
       "    this.image_mode = 'full';\n",
       "\n",
       "    this.root = $('<div/>');\n",
       "    this._root_extra_style(this.root)\n",
       "    this.root.attr('style', 'display: inline-block');\n",
       "\n",
       "    $(parent_element).append(this.root);\n",
       "\n",
       "    this._init_header(this);\n",
       "    this._init_canvas(this);\n",
       "    this._init_toolbar(this);\n",
       "\n",
       "    var fig = this;\n",
       "\n",
       "    this.waiting = false;\n",
       "\n",
       "    this.ws.onopen =  function () {\n",
       "            fig.send_message(\"supports_binary\", {value: fig.supports_binary});\n",
       "            fig.send_message(\"send_image_mode\", {});\n",
       "            fig.send_message(\"refresh\", {});\n",
       "        }\n",
       "\n",
       "    this.imageObj.onload = function() {\n",
       "            if (fig.image_mode == 'full') {\n",
       "                // Full images could contain transparency (where diff images\n",
       "                // almost always do), so we need to clear the canvas so that\n",
       "                // there is no ghosting.\n",
       "                fig.context.clearRect(0, 0, fig.canvas.width, fig.canvas.height);\n",
       "            }\n",
       "            fig.context.drawImage(fig.imageObj, 0, 0);\n",
       "        };\n",
       "\n",
       "    this.imageObj.onunload = function() {\n",
       "        this.ws.close();\n",
       "    }\n",
       "\n",
       "    this.ws.onmessage = this._make_on_message_function(this);\n",
       "\n",
       "    this.ondownload = ondownload;\n",
       "}\n",
       "\n",
       "mpl.figure.prototype._init_header = function() {\n",
       "    var titlebar = $(\n",
       "        '<div class=\"ui-dialog-titlebar ui-widget-header ui-corner-all ' +\n",
       "        'ui-helper-clearfix\"/>');\n",
       "    var titletext = $(\n",
       "        '<div class=\"ui-dialog-title\" style=\"width: 100%; ' +\n",
       "        'text-align: center; padding: 3px;\"/>');\n",
       "    titlebar.append(titletext)\n",
       "    this.root.append(titlebar);\n",
       "    this.header = titletext[0];\n",
       "}\n",
       "\n",
       "\n",
       "\n",
       "mpl.figure.prototype._canvas_extra_style = function(canvas_div) {\n",
       "\n",
       "}\n",
       "\n",
       "\n",
       "mpl.figure.prototype._root_extra_style = function(canvas_div) {\n",
       "\n",
       "}\n",
       "\n",
       "mpl.figure.prototype._init_canvas = function() {\n",
       "    var fig = this;\n",
       "\n",
       "    var canvas_div = $('<div/>');\n",
       "\n",
       "    canvas_div.attr('style', 'position: relative; clear: both; outline: 0');\n",
       "\n",
       "    function canvas_keyboard_event(event) {\n",
       "        return fig.key_event(event, event['data']);\n",
       "    }\n",
       "\n",
       "    canvas_div.keydown('key_press', canvas_keyboard_event);\n",
       "    canvas_div.keyup('key_release', canvas_keyboard_event);\n",
       "    this.canvas_div = canvas_div\n",
       "    this._canvas_extra_style(canvas_div)\n",
       "    this.root.append(canvas_div);\n",
       "\n",
       "    var canvas = $('<canvas/>');\n",
       "    canvas.addClass('mpl-canvas');\n",
       "    canvas.attr('style', \"left: 0; top: 0; z-index: 0; outline: 0\")\n",
       "\n",
       "    this.canvas = canvas[0];\n",
       "    this.context = canvas[0].getContext(\"2d\");\n",
       "\n",
       "    var rubberband = $('<canvas/>');\n",
       "    rubberband.attr('style', \"position: absolute; left: 0; top: 0; z-index: 1;\")\n",
       "\n",
       "    var pass_mouse_events = true;\n",
       "\n",
       "    canvas_div.resizable({\n",
       "        start: function(event, ui) {\n",
       "            pass_mouse_events = false;\n",
       "        },\n",
       "        resize: function(event, ui) {\n",
       "            fig.request_resize(ui.size.width, ui.size.height);\n",
       "        },\n",
       "        stop: function(event, ui) {\n",
       "            pass_mouse_events = true;\n",
       "            fig.request_resize(ui.size.width, ui.size.height);\n",
       "        },\n",
       "    });\n",
       "\n",
       "    function mouse_event_fn(event) {\n",
       "        if (pass_mouse_events)\n",
       "            return fig.mouse_event(event, event['data']);\n",
       "    }\n",
       "\n",
       "    rubberband.mousedown('button_press', mouse_event_fn);\n",
       "    rubberband.mouseup('button_release', mouse_event_fn);\n",
       "    // Throttle sequential mouse events to 1 every 20ms.\n",
       "    rubberband.mousemove('motion_notify', mouse_event_fn);\n",
       "\n",
       "    rubberband.mouseenter('figure_enter', mouse_event_fn);\n",
       "    rubberband.mouseleave('figure_leave', mouse_event_fn);\n",
       "\n",
       "    canvas_div.on(\"wheel\", function (event) {\n",
       "        event = event.originalEvent;\n",
       "        event['data'] = 'scroll'\n",
       "        if (event.deltaY < 0) {\n",
       "            event.step = 1;\n",
       "        } else {\n",
       "            event.step = -1;\n",
       "        }\n",
       "        mouse_event_fn(event);\n",
       "    });\n",
       "\n",
       "    canvas_div.append(canvas);\n",
       "    canvas_div.append(rubberband);\n",
       "\n",
       "    this.rubberband = rubberband;\n",
       "    this.rubberband_canvas = rubberband[0];\n",
       "    this.rubberband_context = rubberband[0].getContext(\"2d\");\n",
       "    this.rubberband_context.strokeStyle = \"#000000\";\n",
       "\n",
       "    this._resize_canvas = function(width, height) {\n",
       "        // Keep the size of the canvas, canvas container, and rubber band\n",
       "        // canvas in synch.\n",
       "        canvas_div.css('width', width)\n",
       "        canvas_div.css('height', height)\n",
       "\n",
       "        canvas.attr('width', width);\n",
       "        canvas.attr('height', height);\n",
       "\n",
       "        rubberband.attr('width', width);\n",
       "        rubberband.attr('height', height);\n",
       "    }\n",
       "\n",
       "    // Set the figure to an initial 600x600px, this will subsequently be updated\n",
       "    // upon first draw.\n",
       "    this._resize_canvas(600, 600);\n",
       "\n",
       "    // Disable right mouse context menu.\n",
       "    $(this.rubberband_canvas).bind(\"contextmenu\",function(e){\n",
       "        return false;\n",
       "    });\n",
       "\n",
       "    function set_focus () {\n",
       "        canvas.focus();\n",
       "        canvas_div.focus();\n",
       "    }\n",
       "\n",
       "    window.setTimeout(set_focus, 100);\n",
       "}\n",
       "\n",
       "mpl.figure.prototype._init_toolbar = function() {\n",
       "    var fig = this;\n",
       "\n",
       "    var nav_element = $('<div/>')\n",
       "    nav_element.attr('style', 'width: 100%');\n",
       "    this.root.append(nav_element);\n",
       "\n",
       "    // Define a callback function for later on.\n",
       "    function toolbar_event(event) {\n",
       "        return fig.toolbar_button_onclick(event['data']);\n",
       "    }\n",
       "    function toolbar_mouse_event(event) {\n",
       "        return fig.toolbar_button_onmouseover(event['data']);\n",
       "    }\n",
       "\n",
       "    for(var toolbar_ind in mpl.toolbar_items) {\n",
       "        var name = mpl.toolbar_items[toolbar_ind][0];\n",
       "        var tooltip = mpl.toolbar_items[toolbar_ind][1];\n",
       "        var image = mpl.toolbar_items[toolbar_ind][2];\n",
       "        var method_name = mpl.toolbar_items[toolbar_ind][3];\n",
       "\n",
       "        if (!name) {\n",
       "            // put a spacer in here.\n",
       "            continue;\n",
       "        }\n",
       "        var button = $('<button/>');\n",
       "        button.addClass('ui-button ui-widget ui-state-default ui-corner-all ' +\n",
       "                        'ui-button-icon-only');\n",
       "        button.attr('role', 'button');\n",
       "        button.attr('aria-disabled', 'false');\n",
       "        button.click(method_name, toolbar_event);\n",
       "        button.mouseover(tooltip, toolbar_mouse_event);\n",
       "\n",
       "        var icon_img = $('<span/>');\n",
       "        icon_img.addClass('ui-button-icon-primary ui-icon');\n",
       "        icon_img.addClass(image);\n",
       "        icon_img.addClass('ui-corner-all');\n",
       "\n",
       "        var tooltip_span = $('<span/>');\n",
       "        tooltip_span.addClass('ui-button-text');\n",
       "        tooltip_span.html(tooltip);\n",
       "\n",
       "        button.append(icon_img);\n",
       "        button.append(tooltip_span);\n",
       "\n",
       "        nav_element.append(button);\n",
       "    }\n",
       "\n",
       "    var fmt_picker_span = $('<span/>');\n",
       "\n",
       "    var fmt_picker = $('<select/>');\n",
       "    fmt_picker.addClass('mpl-toolbar-option ui-widget ui-widget-content');\n",
       "    fmt_picker_span.append(fmt_picker);\n",
       "    nav_element.append(fmt_picker_span);\n",
       "    this.format_dropdown = fmt_picker[0];\n",
       "\n",
       "    for (var ind in mpl.extensions) {\n",
       "        var fmt = mpl.extensions[ind];\n",
       "        var option = $(\n",
       "            '<option/>', {selected: fmt === mpl.default_extension}).html(fmt);\n",
       "        fmt_picker.append(option)\n",
       "    }\n",
       "\n",
       "    // Add hover states to the ui-buttons\n",
       "    $( \".ui-button\" ).hover(\n",
       "        function() { $(this).addClass(\"ui-state-hover\");},\n",
       "        function() { $(this).removeClass(\"ui-state-hover\");}\n",
       "    );\n",
       "\n",
       "    var status_bar = $('<span class=\"mpl-message\"/>');\n",
       "    nav_element.append(status_bar);\n",
       "    this.message = status_bar[0];\n",
       "}\n",
       "\n",
       "mpl.figure.prototype.request_resize = function(x_pixels, y_pixels) {\n",
       "    // Request matplotlib to resize the figure. Matplotlib will then trigger a resize in the client,\n",
       "    // which will in turn request a refresh of the image.\n",
       "    this.send_message('resize', {'width': x_pixels, 'height': y_pixels});\n",
       "}\n",
       "\n",
       "mpl.figure.prototype.send_message = function(type, properties) {\n",
       "    properties['type'] = type;\n",
       "    properties['figure_id'] = this.id;\n",
       "    this.ws.send(JSON.stringify(properties));\n",
       "}\n",
       "\n",
       "mpl.figure.prototype.send_draw_message = function() {\n",
       "    if (!this.waiting) {\n",
       "        this.waiting = true;\n",
       "        this.ws.send(JSON.stringify({type: \"draw\", figure_id: this.id}));\n",
       "    }\n",
       "}\n",
       "\n",
       "\n",
       "mpl.figure.prototype.handle_save = function(fig, msg) {\n",
       "    var format_dropdown = fig.format_dropdown;\n",
       "    var format = format_dropdown.options[format_dropdown.selectedIndex].value;\n",
       "    fig.ondownload(fig, format);\n",
       "}\n",
       "\n",
       "\n",
       "mpl.figure.prototype.handle_resize = function(fig, msg) {\n",
       "    var size = msg['size'];\n",
       "    if (size[0] != fig.canvas.width || size[1] != fig.canvas.height) {\n",
       "        fig._resize_canvas(size[0], size[1]);\n",
       "        fig.send_message(\"refresh\", {});\n",
       "    };\n",
       "}\n",
       "\n",
       "mpl.figure.prototype.handle_rubberband = function(fig, msg) {\n",
       "    var x0 = msg['x0'];\n",
       "    var y0 = fig.canvas.height - msg['y0'];\n",
       "    var x1 = msg['x1'];\n",
       "    var y1 = fig.canvas.height - msg['y1'];\n",
       "    x0 = Math.floor(x0) + 0.5;\n",
       "    y0 = Math.floor(y0) + 0.5;\n",
       "    x1 = Math.floor(x1) + 0.5;\n",
       "    y1 = Math.floor(y1) + 0.5;\n",
       "    var min_x = Math.min(x0, x1);\n",
       "    var min_y = Math.min(y0, y1);\n",
       "    var width = Math.abs(x1 - x0);\n",
       "    var height = Math.abs(y1 - y0);\n",
       "\n",
       "    fig.rubberband_context.clearRect(\n",
       "        0, 0, fig.canvas.width, fig.canvas.height);\n",
       "\n",
       "    fig.rubberband_context.strokeRect(min_x, min_y, width, height);\n",
       "}\n",
       "\n",
       "mpl.figure.prototype.handle_figure_label = function(fig, msg) {\n",
       "    // Updates the figure title.\n",
       "    fig.header.textContent = msg['label'];\n",
       "}\n",
       "\n",
       "mpl.figure.prototype.handle_cursor = function(fig, msg) {\n",
       "    var cursor = msg['cursor'];\n",
       "    switch(cursor)\n",
       "    {\n",
       "    case 0:\n",
       "        cursor = 'pointer';\n",
       "        break;\n",
       "    case 1:\n",
       "        cursor = 'default';\n",
       "        break;\n",
       "    case 2:\n",
       "        cursor = 'crosshair';\n",
       "        break;\n",
       "    case 3:\n",
       "        cursor = 'move';\n",
       "        break;\n",
       "    }\n",
       "    fig.rubberband_canvas.style.cursor = cursor;\n",
       "}\n",
       "\n",
       "mpl.figure.prototype.handle_message = function(fig, msg) {\n",
       "    fig.message.textContent = msg['message'];\n",
       "}\n",
       "\n",
       "mpl.figure.prototype.handle_draw = function(fig, msg) {\n",
       "    // Request the server to send over a new figure.\n",
       "    fig.send_draw_message();\n",
       "}\n",
       "\n",
       "mpl.figure.prototype.handle_image_mode = function(fig, msg) {\n",
       "    fig.image_mode = msg['mode'];\n",
       "}\n",
       "\n",
       "mpl.figure.prototype.updated_canvas_event = function() {\n",
       "    // Called whenever the canvas gets updated.\n",
       "    this.send_message(\"ack\", {});\n",
       "}\n",
       "\n",
       "// A function to construct a web socket function for onmessage handling.\n",
       "// Called in the figure constructor.\n",
       "mpl.figure.prototype._make_on_message_function = function(fig) {\n",
       "    return function socket_on_message(evt) {\n",
       "        if (evt.data instanceof Blob) {\n",
       "            /* FIXME: We get \"Resource interpreted as Image but\n",
       "             * transferred with MIME type text/plain:\" errors on\n",
       "             * Chrome.  But how to set the MIME type?  It doesn't seem\n",
       "             * to be part of the websocket stream */\n",
       "            evt.data.type = \"image/png\";\n",
       "\n",
       "            /* Free the memory for the previous frames */\n",
       "            if (fig.imageObj.src) {\n",
       "                (window.URL || window.webkitURL).revokeObjectURL(\n",
       "                    fig.imageObj.src);\n",
       "            }\n",
       "\n",
       "            fig.imageObj.src = (window.URL || window.webkitURL).createObjectURL(\n",
       "                evt.data);\n",
       "            fig.updated_canvas_event();\n",
       "            fig.waiting = false;\n",
       "            return;\n",
       "        }\n",
       "        else if (typeof evt.data === 'string' && evt.data.slice(0, 21) == \"data:image/png;base64\") {\n",
       "            fig.imageObj.src = evt.data;\n",
       "            fig.updated_canvas_event();\n",
       "            fig.waiting = false;\n",
       "            return;\n",
       "        }\n",
       "\n",
       "        var msg = JSON.parse(evt.data);\n",
       "        var msg_type = msg['type'];\n",
       "\n",
       "        // Call the  \"handle_{type}\" callback, which takes\n",
       "        // the figure and JSON message as its only arguments.\n",
       "        try {\n",
       "            var callback = fig[\"handle_\" + msg_type];\n",
       "        } catch (e) {\n",
       "            console.log(\"No handler for the '\" + msg_type + \"' message type: \", msg);\n",
       "            return;\n",
       "        }\n",
       "\n",
       "        if (callback) {\n",
       "            try {\n",
       "                // console.log(\"Handling '\" + msg_type + \"' message: \", msg);\n",
       "                callback(fig, msg);\n",
       "            } catch (e) {\n",
       "                console.log(\"Exception inside the 'handler_\" + msg_type + \"' callback:\", e, e.stack, msg);\n",
       "            }\n",
       "        }\n",
       "    };\n",
       "}\n",
       "\n",
       "// from http://stackoverflow.com/questions/1114465/getting-mouse-location-in-canvas\n",
       "mpl.findpos = function(e) {\n",
       "    //this section is from http://www.quirksmode.org/js/events_properties.html\n",
       "    var targ;\n",
       "    if (!e)\n",
       "        e = window.event;\n",
       "    if (e.target)\n",
       "        targ = e.target;\n",
       "    else if (e.srcElement)\n",
       "        targ = e.srcElement;\n",
       "    if (targ.nodeType == 3) // defeat Safari bug\n",
       "        targ = targ.parentNode;\n",
       "\n",
       "    // jQuery normalizes the pageX and pageY\n",
       "    // pageX,Y are the mouse positions relative to the document\n",
       "    // offset() returns the position of the element relative to the document\n",
       "    var x = e.pageX - $(targ).offset().left;\n",
       "    var y = e.pageY - $(targ).offset().top;\n",
       "\n",
       "    return {\"x\": x, \"y\": y};\n",
       "};\n",
       "\n",
       "/*\n",
       " * return a copy of an object with only non-object keys\n",
       " * we need this to avoid circular references\n",
       " * http://stackoverflow.com/a/24161582/3208463\n",
       " */\n",
       "function simpleKeys (original) {\n",
       "  return Object.keys(original).reduce(function (obj, key) {\n",
       "    if (typeof original[key] !== 'object')\n",
       "        obj[key] = original[key]\n",
       "    return obj;\n",
       "  }, {});\n",
       "}\n",
       "\n",
       "mpl.figure.prototype.mouse_event = function(event, name) {\n",
       "    var canvas_pos = mpl.findpos(event)\n",
       "\n",
       "    if (name === 'button_press')\n",
       "    {\n",
       "        this.canvas.focus();\n",
       "        this.canvas_div.focus();\n",
       "    }\n",
       "\n",
       "    var x = canvas_pos.x;\n",
       "    var y = canvas_pos.y;\n",
       "\n",
       "    this.send_message(name, {x: x, y: y, button: event.button,\n",
       "                             step: event.step,\n",
       "                             guiEvent: simpleKeys(event)});\n",
       "\n",
       "    /* This prevents the web browser from automatically changing to\n",
       "     * the text insertion cursor when the button is pressed.  We want\n",
       "     * to control all of the cursor setting manually through the\n",
       "     * 'cursor' event from matplotlib */\n",
       "    event.preventDefault();\n",
       "    return false;\n",
       "}\n",
       "\n",
       "mpl.figure.prototype._key_event_extra = function(event, name) {\n",
       "    // Handle any extra behaviour associated with a key event\n",
       "}\n",
       "\n",
       "mpl.figure.prototype.key_event = function(event, name) {\n",
       "\n",
       "    // Prevent repeat events\n",
       "    if (name == 'key_press')\n",
       "    {\n",
       "        if (event.which === this._key)\n",
       "            return;\n",
       "        else\n",
       "            this._key = event.which;\n",
       "    }\n",
       "    if (name == 'key_release')\n",
       "        this._key = null;\n",
       "\n",
       "    var value = '';\n",
       "    if (event.ctrlKey && event.which != 17)\n",
       "        value += \"ctrl+\";\n",
       "    if (event.altKey && event.which != 18)\n",
       "        value += \"alt+\";\n",
       "    if (event.shiftKey && event.which != 16)\n",
       "        value += \"shift+\";\n",
       "\n",
       "    value += 'k';\n",
       "    value += event.which.toString();\n",
       "\n",
       "    this._key_event_extra(event, name);\n",
       "\n",
       "    this.send_message(name, {key: value,\n",
       "                             guiEvent: simpleKeys(event)});\n",
       "    return false;\n",
       "}\n",
       "\n",
       "mpl.figure.prototype.toolbar_button_onclick = function(name) {\n",
       "    if (name == 'download') {\n",
       "        this.handle_save(this, null);\n",
       "    } else {\n",
       "        this.send_message(\"toolbar_button\", {name: name});\n",
       "    }\n",
       "};\n",
       "\n",
       "mpl.figure.prototype.toolbar_button_onmouseover = function(tooltip) {\n",
       "    this.message.textContent = tooltip;\n",
       "};\n",
       "mpl.toolbar_items = [[\"Home\", \"Reset original view\", \"fa fa-home icon-home\", \"home\"], [\"Back\", \"Back to  previous view\", \"fa fa-arrow-left icon-arrow-left\", \"back\"], [\"Forward\", \"Forward to next view\", \"fa fa-arrow-right icon-arrow-right\", \"forward\"], [\"\", \"\", \"\", \"\"], [\"Pan\", \"Pan axes with left mouse, zoom with right\", \"fa fa-arrows icon-move\", \"pan\"], [\"Zoom\", \"Zoom to rectangle\", \"fa fa-square-o icon-check-empty\", \"zoom\"], [\"\", \"\", \"\", \"\"], [\"Download\", \"Download plot\", \"fa fa-floppy-o icon-save\", \"download\"]];\n",
       "\n",
       "mpl.extensions = [\"eps\", \"pdf\", \"png\", \"ps\", \"raw\", \"svg\"];\n",
       "\n",
       "mpl.default_extension = \"png\";var comm_websocket_adapter = function(comm) {\n",
       "    // Create a \"websocket\"-like object which calls the given IPython comm\n",
       "    // object with the appropriate methods. Currently this is a non binary\n",
       "    // socket, so there is still some room for performance tuning.\n",
       "    var ws = {};\n",
       "\n",
       "    ws.close = function() {\n",
       "        comm.close()\n",
       "    };\n",
       "    ws.send = function(m) {\n",
       "        //console.log('sending', m);\n",
       "        comm.send(m);\n",
       "    };\n",
       "    // Register the callback with on_msg.\n",
       "    comm.on_msg(function(msg) {\n",
       "        //console.log('receiving', msg['content']['data'], msg);\n",
       "        // Pass the mpl event to the overriden (by mpl) onmessage function.\n",
       "        ws.onmessage(msg['content']['data'])\n",
       "    });\n",
       "    return ws;\n",
       "}\n",
       "\n",
       "mpl.mpl_figure_comm = function(comm, msg) {\n",
       "    // This is the function which gets called when the mpl process\n",
       "    // starts-up an IPython Comm through the \"matplotlib\" channel.\n",
       "\n",
       "    var id = msg.content.data.id;\n",
       "    // Get hold of the div created by the display call when the Comm\n",
       "    // socket was opened in Python.\n",
       "    var element = $(\"#\" + id);\n",
       "    var ws_proxy = comm_websocket_adapter(comm)\n",
       "\n",
       "    function ondownload(figure, format) {\n",
       "        window.open(figure.imageObj.src);\n",
       "    }\n",
       "\n",
       "    var fig = new mpl.figure(id, ws_proxy,\n",
       "                           ondownload,\n",
       "                           element.get(0));\n",
       "\n",
       "    // Call onopen now - mpl needs it, as it is assuming we've passed it a real\n",
       "    // web socket which is closed, not our websocket->open comm proxy.\n",
       "    ws_proxy.onopen();\n",
       "\n",
       "    fig.parent_element = element.get(0);\n",
       "    fig.cell_info = mpl.find_output_cell(\"<div id='\" + id + \"'></div>\");\n",
       "    if (!fig.cell_info) {\n",
       "        console.error(\"Failed to find cell for figure\", id, fig);\n",
       "        return;\n",
       "    }\n",
       "\n",
       "    var output_index = fig.cell_info[2]\n",
       "    var cell = fig.cell_info[0];\n",
       "\n",
       "};\n",
       "\n",
       "mpl.figure.prototype.handle_close = function(fig, msg) {\n",
       "    fig.root.unbind('remove')\n",
       "\n",
       "    // Update the output cell to use the data from the current canvas.\n",
       "    fig.push_to_output();\n",
       "    var dataURL = fig.canvas.toDataURL();\n",
       "    // Re-enable the keyboard manager in IPython - without this line, in FF,\n",
       "    // the notebook keyboard shortcuts fail.\n",
       "    IPython.keyboard_manager.enable()\n",
       "    $(fig.parent_element).html('<img src=\"' + dataURL + '\">');\n",
       "    fig.close_ws(fig, msg);\n",
       "}\n",
       "\n",
       "mpl.figure.prototype.close_ws = function(fig, msg){\n",
       "    fig.send_message('closing', msg);\n",
       "    // fig.ws.close()\n",
       "}\n",
       "\n",
       "mpl.figure.prototype.push_to_output = function(remove_interactive) {\n",
       "    // Turn the data on the canvas into data in the output cell.\n",
       "    var dataURL = this.canvas.toDataURL();\n",
       "    this.cell_info[1]['text/html'] = '<img src=\"' + dataURL + '\">';\n",
       "}\n",
       "\n",
       "mpl.figure.prototype.updated_canvas_event = function() {\n",
       "    // Tell IPython that the notebook contents must change.\n",
       "    IPython.notebook.set_dirty(true);\n",
       "    this.send_message(\"ack\", {});\n",
       "    var fig = this;\n",
       "    // Wait a second, then push the new image to the DOM so\n",
       "    // that it is saved nicely (might be nice to debounce this).\n",
       "    setTimeout(function () { fig.push_to_output() }, 1000);\n",
       "}\n",
       "\n",
       "mpl.figure.prototype._init_toolbar = function() {\n",
       "    var fig = this;\n",
       "\n",
       "    var nav_element = $('<div/>')\n",
       "    nav_element.attr('style', 'width: 100%');\n",
       "    this.root.append(nav_element);\n",
       "\n",
       "    // Define a callback function for later on.\n",
       "    function toolbar_event(event) {\n",
       "        return fig.toolbar_button_onclick(event['data']);\n",
       "    }\n",
       "    function toolbar_mouse_event(event) {\n",
       "        return fig.toolbar_button_onmouseover(event['data']);\n",
       "    }\n",
       "\n",
       "    for(var toolbar_ind in mpl.toolbar_items){\n",
       "        var name = mpl.toolbar_items[toolbar_ind][0];\n",
       "        var tooltip = mpl.toolbar_items[toolbar_ind][1];\n",
       "        var image = mpl.toolbar_items[toolbar_ind][2];\n",
       "        var method_name = mpl.toolbar_items[toolbar_ind][3];\n",
       "\n",
       "        if (!name) { continue; };\n",
       "\n",
       "        var button = $('<button class=\"btn btn-default\" href=\"#\" title=\"' + name + '\"><i class=\"fa ' + image + ' fa-lg\"></i></button>');\n",
       "        button.click(method_name, toolbar_event);\n",
       "        button.mouseover(tooltip, toolbar_mouse_event);\n",
       "        nav_element.append(button);\n",
       "    }\n",
       "\n",
       "    // Add the status bar.\n",
       "    var status_bar = $('<span class=\"mpl-message\" style=\"text-align:right; float: right;\"/>');\n",
       "    nav_element.append(status_bar);\n",
       "    this.message = status_bar[0];\n",
       "\n",
       "    // Add the close button to the window.\n",
       "    var buttongrp = $('<div class=\"btn-group inline pull-right\"></div>');\n",
       "    var button = $('<button class=\"btn btn-mini btn-primary\" href=\"#\" title=\"Stop Interaction\"><i class=\"fa fa-power-off icon-remove icon-large\"></i></button>');\n",
       "    button.click(function (evt) { fig.handle_close(fig, {}); } );\n",
       "    button.mouseover('Stop Interaction', toolbar_mouse_event);\n",
       "    buttongrp.append(button);\n",
       "    var titlebar = this.root.find($('.ui-dialog-titlebar'));\n",
       "    titlebar.prepend(buttongrp);\n",
       "}\n",
       "\n",
       "mpl.figure.prototype._root_extra_style = function(el){\n",
       "    var fig = this\n",
       "    el.on(\"remove\", function(){\n",
       "\tfig.close_ws(fig, {});\n",
       "    });\n",
       "}\n",
       "\n",
       "mpl.figure.prototype._canvas_extra_style = function(el){\n",
       "    // this is important to make the div 'focusable\n",
       "    el.attr('tabindex', 0)\n",
       "    // reach out to IPython and tell the keyboard manager to turn it's self\n",
       "    // off when our div gets focus\n",
       "\n",
       "    // location in version 3\n",
       "    if (IPython.notebook.keyboard_manager) {\n",
       "        IPython.notebook.keyboard_manager.register_events(el);\n",
       "    }\n",
       "    else {\n",
       "        // location in version 2\n",
       "        IPython.keyboard_manager.register_events(el);\n",
       "    }\n",
       "\n",
       "}\n",
       "\n",
       "mpl.figure.prototype._key_event_extra = function(event, name) {\n",
       "    var manager = IPython.notebook.keyboard_manager;\n",
       "    if (!manager)\n",
       "        manager = IPython.keyboard_manager;\n",
       "\n",
       "    // Check for shift+enter\n",
       "    if (event.shiftKey && event.which == 13) {\n",
       "        this.canvas_div.blur();\n",
       "        event.shiftKey = false;\n",
       "        // Send a \"J\" for go to next cell\n",
       "        event.which = 74;\n",
       "        event.keyCode = 74;\n",
       "        manager.command_mode();\n",
       "        manager.handle_keydown(event);\n",
       "    }\n",
       "}\n",
       "\n",
       "mpl.figure.prototype.handle_save = function(fig, msg) {\n",
       "    fig.ondownload(fig, null);\n",
       "}\n",
       "\n",
       "\n",
       "mpl.find_output_cell = function(html_output) {\n",
       "    // Return the cell and output element which can be found *uniquely* in the notebook.\n",
       "    // Note - this is a bit hacky, but it is done because the \"notebook_saving.Notebook\"\n",
       "    // IPython event is triggered only after the cells have been serialised, which for\n",
       "    // our purposes (turning an active figure into a static one), is too late.\n",
       "    var cells = IPython.notebook.get_cells();\n",
       "    var ncells = cells.length;\n",
       "    for (var i=0; i<ncells; i++) {\n",
       "        var cell = cells[i];\n",
       "        if (cell.cell_type === 'code'){\n",
       "            for (var j=0; j<cell.output_area.outputs.length; j++) {\n",
       "                var data = cell.output_area.outputs[j];\n",
       "                if (data.data) {\n",
       "                    // IPython >= 3 moved mimebundle to data attribute of output\n",
       "                    data = data.data;\n",
       "                }\n",
       "                if (data['text/html'] == html_output) {\n",
       "                    return [cell, data, j];\n",
       "                }\n",
       "            }\n",
       "        }\n",
       "    }\n",
       "}\n",
       "\n",
       "// Register the function which deals with the matplotlib target/channel.\n",
       "// The kernel may be null if the page has been refreshed.\n",
       "if (IPython.notebook.kernel != null) {\n",
       "    IPython.notebook.kernel.comm_manager.register_target('matplotlib', mpl.mpl_figure_comm);\n",
       "}\n"
      ],
      "text/plain": [
       "<IPython.core.display.Javascript object>"
      ]
     },
     "metadata": {},
     "output_type": "display_data"
    },
    {
     "data": {
      "text/html": [
       "<img src=\"data:image/png;base64,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\">"
      ],
      "text/plain": [
       "<IPython.core.display.HTML object>"
      ]
     },
     "metadata": {},
     "output_type": "display_data"
    },
    {
     "data": {
      "text/plain": [
       "<mpl_toolkits.mplot3d.art3d.Line3DCollection at 0x10dbd1390>"
      ]
     },
     "execution_count": 161,
     "metadata": {},
     "output_type": "execute_result"
    }
   ],
   "source": [
    "from mpl_toolkits.mplot3d import axes3d\n",
    "\n",
    "fig = plt.figure()\n",
    "ax = fig.add_subplot(1, 1, 1, projection='3d')\n",
    "\n",
    "x, y = np.mgrid[0:10:0.5, 0:10:0.5]\n",
    "\n",
    "z = np.sin(x) - y\n",
    "\n",
    "ax.plot_wireframe(x, y, z)\n"
   ]
  },
  {
   "cell_type": "code",
   "execution_count": null,
   "metadata": {
    "collapsed": true
   },
   "outputs": [],
   "source": []
  },
  {
   "cell_type": "code",
   "execution_count": null,
   "metadata": {
    "collapsed": false
   },
   "outputs": [],
   "source": []
  },
  {
   "cell_type": "markdown",
   "metadata": {},
   "source": [
    "----\n",
    "# Pandas\n",
    "\n",
    "- Serise\n",
    "\n",
    "- DataFrame\n",
    "\n",
    "- Panel"
   ]
  },
  {
   "cell_type": "code",
   "execution_count": 162,
   "metadata": {
    "collapsed": true
   },
   "outputs": [],
   "source": [
    "import pandas as pd"
   ]
  },
  {
   "cell_type": "code",
   "execution_count": 166,
   "metadata": {
    "collapsed": false
   },
   "outputs": [],
   "source": [
    "se = pd.Series([1, 2, 5, 1,2], index=['foo', 'bar', 'a', 'c', 'd'])"
   ]
  },
  {
   "cell_type": "code",
   "execution_count": null,
   "metadata": {
    "collapsed": false
   },
   "outputs": [],
   "source": []
  },
  {
   "cell_type": "code",
   "execution_count": 170,
   "metadata": {
    "collapsed": false
   },
   "outputs": [],
   "source": [
    "df = pd.DataFrame({\n",
    "        'age': [18, 19, 20],\n",
    "        'no': [56, 29, 32]\n",
    "    }, index=['foo', 'Bob', 'Alice'])"
   ]
  },
  {
   "cell_type": "code",
   "execution_count": 171,
   "metadata": {
    "collapsed": false
   },
   "outputs": [
    {
     "data": {
      "text/html": [
       "<div>\n",
       "<table border=\"1\" class=\"dataframe\">\n",
       "  <thead>\n",
       "    <tr style=\"text-align: right;\">\n",
       "      <th></th>\n",
       "      <th>age</th>\n",
       "      <th>no</th>\n",
       "    </tr>\n",
       "  </thead>\n",
       "  <tbody>\n",
       "    <tr>\n",
       "      <th>foo</th>\n",
       "      <td>18</td>\n",
       "      <td>56</td>\n",
       "    </tr>\n",
       "    <tr>\n",
       "      <th>Bob</th>\n",
       "      <td>19</td>\n",
       "      <td>29</td>\n",
       "    </tr>\n",
       "    <tr>\n",
       "      <th>Alice</th>\n",
       "      <td>20</td>\n",
       "      <td>32</td>\n",
       "    </tr>\n",
       "  </tbody>\n",
       "</table>\n",
       "</div>"
      ],
      "text/plain": [
       "       age  no\n",
       "foo     18  56\n",
       "Bob     19  29\n",
       "Alice   20  32"
      ]
     },
     "execution_count": 171,
     "metadata": {},
     "output_type": "execute_result"
    }
   ],
   "source": [
    "df"
   ]
  },
  {
   "cell_type": "code",
   "execution_count": 174,
   "metadata": {
    "collapsed": false
   },
   "outputs": [
    {
     "data": {
      "text/plain": [
       "19"
      ]
     },
     "execution_count": 174,
     "metadata": {},
     "output_type": "execute_result"
    }
   ],
   "source": [
    "df['age']['Bob']"
   ]
  },
  {
   "cell_type": "code",
   "execution_count": null,
   "metadata": {
    "collapsed": true
   },
   "outputs": [],
   "source": []
  },
  {
   "cell_type": "markdown",
   "metadata": {},
   "source": [
    "---\n",
    "# scikit-learn\n",
    "\n",
    "## K-Means sample"
   ]
  },
  {
   "cell_type": "code",
   "execution_count": 78,
   "metadata": {
    "collapsed": false
   },
   "outputs": [],
   "source": [
    "data = np.random.randn(100, 2)"
   ]
  },
  {
   "cell_type": "code",
   "execution_count": 80,
   "metadata": {
    "collapsed": false
   },
   "outputs": [],
   "source": [
    "from sklearn.cluster import KMeans"
   ]
  },
  {
   "cell_type": "code",
   "execution_count": 84,
   "metadata": {
    "collapsed": false
   },
   "outputs": [
    {
     "data": {
      "text/plain": [
       "KMeans(copy_x=True, init='k-means++', max_iter=300, n_clusters=8, n_init=10,\n",
       "    n_jobs=1, precompute_distances='auto', random_state=None, tol=0.0001,\n",
       "    verbose=0)"
      ]
     },
     "execution_count": 84,
     "metadata": {},
     "output_type": "execute_result"
    }
   ],
   "source": [
    "km = KMeans()\n",
    "km.fit(data)"
   ]
  },
  {
   "cell_type": "code",
   "execution_count": 85,
   "metadata": {
    "collapsed": false
   },
   "outputs": [
    {
     "data": {
      "text/plain": [
       "array([[ 0.52949303, -0.2306427 ],\n",
       "       [-0.73272274,  0.50350894],\n",
       "       [-0.506402  , -0.6639773 ],\n",
       "       [-0.24936256,  1.70200489],\n",
       "       [ 0.5943467 ,  0.83977173],\n",
       "       [-1.49385411, -0.69112534],\n",
       "       [ 1.89524255,  0.05002626],\n",
       "       [ 0.3024382 , -1.54085445]])"
      ]
     },
     "execution_count": 85,
     "metadata": {},
     "output_type": "execute_result"
    }
   ],
   "source": [
    "km.cluster_centers_"
   ]
  },
  {
   "cell_type": "code",
   "execution_count": null,
   "metadata": {
    "collapsed": true
   },
   "outputs": [],
   "source": []
  }
 ],
 "metadata": {
  "kernelspec": {
   "display_name": "Python 3",
   "language": "python",
   "name": "python3"
  },
  "language_info": {
   "codemirror_mode": {
    "name": "ipython",
    "version": 3
   },
   "file_extension": ".py",
   "mimetype": "text/x-python",
   "name": "python",
   "nbconvert_exporter": "python",
   "pygments_lexer": "ipython3",
   "version": "3.5.0"
  }
 },
 "nbformat": 4,
 "nbformat_minor": 0
}
