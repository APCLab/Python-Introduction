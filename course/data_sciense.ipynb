{
 "cells": [
  {
   "cell_type": "markdown",
   "metadata": {},
   "source": [
    "# Python & Data Sciense\n",
    "\n",
    "## 相關常間套件\n",
    "\n",
    "- [scipy](https://www.scipy.org)\n",
    "- numpy\n",
    "- sumpy\n",
    "- pandas\n",
    "- matplotlib\n",
    "- jupyter (舊名: ipython notebook)\n",
    "\n",
    "- Theano\n",
    "\n",
    "\n",
    "### The PyData community\n",
    "\n",
    "- http://pydata.org\n",
    "\n",
    "過去的 talk\n",
    "- https://www.youtube.com/watch?list=PLGVZCDnMOq0rbLTVoHGS2xcvp5E0ouOe8&v=MVyauNNinC0\n"
   ]
  },
  {
   "cell_type": "markdown",
   "metadata": {},
   "source": [
    "----"
   ]
  },
  {
   "cell_type": "markdown",
   "metadata": {},
   "source": [
    "# Numpy\n",
    "\n",
    "- 針對 array 處理相關操作\n",
    "\n",
    "- Linear Algebra\n",
    "\n",
    "- Image processing\n",
    "\n",
    "- 底下接 c / fortran\n",
    "\n",
    "## slide\n",
    "\n",
    "- http://www.slideshare.net/PyData/introduction-to-numpy\n",
    "\n",
    "## Rosetta Stone for Matlab User\n",
    "\n",
    "https://docs.scipy.org/doc/numpy-dev/user/numpy-for-matlab-users.html"
   ]
  },
  {
   "cell_type": "code",
   "execution_count": null,
   "metadata": {
    "collapsed": false
   },
   "outputs": [],
   "source": [
    "import numpy as np"
   ]
  },
  {
   "cell_type": "code",
   "execution_count": null,
   "metadata": {
    "collapsed": true
   },
   "outputs": [],
   "source": []
  }
 ],
 "metadata": {
  "kernelspec": {
   "display_name": "Python 3",
   "language": "python",
   "name": "python3"
  },
  "language_info": {
   "codemirror_mode": {
    "name": "ipython",
    "version": 3
   },
   "file_extension": ".py",
   "mimetype": "text/x-python",
   "name": "python",
   "nbconvert_exporter": "python",
   "pygments_lexer": "ipython3",
   "version": "3.5.1"
  }
 },
 "nbformat": 4,
 "nbformat_minor": 0
}
